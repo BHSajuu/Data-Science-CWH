from scipy.stats import binom
# Probability of exactly 6 heads in 10 tosses (p = 0.5)
prob = binom.pmf(k=6, n=10, p=0.5)
print(prob) # Output: ~0.205




