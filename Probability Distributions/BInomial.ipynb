{
 "cells": [
  {
   "cell_type": "code",
   "execution_count": 1,
   "id": "5e62f85f-fa3a-475c-85e8-529b5de24e5c",
   "metadata": {},
   "outputs": [
    {
     "name": "stdout",
     "output_type": "stream",
     "text": [
      "0.2050781249999999\n"
     ]
    }
   ],
   "source": [
    "from scipy.stats import binom\n",
    "# Probability of exactly 6 heads in 10 tosses (p = 0.5)\n",
    "prob = binom.pmf(k=6, n=10, p=0.5)\n",
    "print(prob) # Output: ~0.205\n"
   ]
  },
  {
   "cell_type": "code",
   "execution_count": null,
   "id": "4eef06fb-23ba-442d-a43d-c4ec137a79d6",
   "metadata": {},
   "outputs": [],
   "source": []
  }
 ],
 "metadata": {
  "kernelspec": {
   "display_name": "Python 3 (ipykernel)",
   "language": "python",
   "name": "python3"
  },
  "language_info": {
   "codemirror_mode": {
    "name": "ipython",
    "version": 3
   },
   "file_extension": ".py",
   "mimetype": "text/x-python",
   "name": "python",
   "nbconvert_exporter": "python",
   "pygments_lexer": "ipython3",
   "version": "3.12.7"
  }
 },
 "nbformat": 4,
 "nbformat_minor": 5
}
