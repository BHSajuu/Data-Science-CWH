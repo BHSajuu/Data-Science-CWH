import pandas as pd


data = [
["Alice", 25],
["Bob", 30],
["Charlie", 35]
]
 
pd.DataFrame(data,index=["a","b","c"] , columns=["Name", "Age"])



pd.read_excel("data.xlsx")





df = pd.read_json("data.json")



df.tail()


import numpy as np
arr = np.array([[1, 2], [3, 4]])
df = pd.DataFrame(arr, columns=["A", "B"])
df
