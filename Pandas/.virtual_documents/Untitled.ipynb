import pandas as pd


df = pd.read_csv("cleaning-data.csv")
df


df.isnull()


df.dropna()


df.dropna(axis=1)


df.fillna(1)


df["Age"].fillna(df["Age"].mean())


df.ffill()


df.bfill()


df.duplicated()


df.drop_duplicates().copy()



df2=df.drop_duplicates().copy()
df2


df3 = df.dropna().copy()
df3


df3["Age"] = df3["Age"].astype(int)


df3.info()


df["Join Date"] = pd.to_datetime(df["Join Date"], dayfirst=True)


df


df["Age grp"] = df["Age"].apply(lambda x : "Adult" if x >24 else "Minor")



