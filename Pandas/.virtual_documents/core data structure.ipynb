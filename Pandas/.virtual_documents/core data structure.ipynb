import pandas as pd


# Series as data structure example 
s = pd.Series([10,20,4,7,1] , index=["A", "B", "C", "D","E"])
print(s)



# dataframe example
data = {
"name": ["Alice", "Bob", "Charlie"],
"age": [25, 30, 35],
"city": ["Delhi", "Mumbai", "Bangalore"]
}
 
pd.DataFrame(data)

