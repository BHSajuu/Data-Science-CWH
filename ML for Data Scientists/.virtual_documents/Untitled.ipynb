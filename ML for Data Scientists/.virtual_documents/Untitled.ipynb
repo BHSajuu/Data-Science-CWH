from sklearn.tree import DecisionTreeClassifier 


# Step 1: Collect Data
features = [
[150, 0], # Apple
[170, 0], # Apple
[130, 1], # Orange
[120, 1], # Orange
]
labels = ["apple", "apple", "orange", "orange"]


# Step 2: Train a model
clf = DecisionTreeClassifier()
clf.fit(features,labels);



## Step 3: Predict!
clf.predict([[70,1],[70,0]])


#lets Visualize how the decision tree looks like:
from sklearn.tree import plot_tree
import matplotlib.pyplot as plt

plot_tree(clf, feature_names=["weight", "color"], class_names=["apple", "orange"],
filled=True)



