import pandas as pd
from sklearn.ensemble import RandomForestClassifier


data =  pd.read_excel("iris-dataSet.xlsx")






