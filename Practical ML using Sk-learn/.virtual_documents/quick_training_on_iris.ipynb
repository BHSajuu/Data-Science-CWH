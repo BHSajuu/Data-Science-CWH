import pandas as pd
from sklearn.ensemble import RandomForestClassifier


data =  pd.read_excel("iris-dataSet-train.xlsx")


data.head()



x = data.iloc[ : , :-1]


x


 y = data.iloc[ : , -1]


y


# now train the model
model = RandomForestClassifier()


model.fit(x, y)


model.predict([[5.7, 2.6, 3.5, 1]])


# Now we are testing the complete test data set
dataTest = pd.read_excel("iris-dataSet-test.xlsx")
x = dataTest.iloc[ : , : -1]



