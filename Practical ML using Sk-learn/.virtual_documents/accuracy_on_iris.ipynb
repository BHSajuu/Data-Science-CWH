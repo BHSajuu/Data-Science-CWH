import pandas as pd
from sklearn.tree import DecisionTreeClassifier


data =  pd.read_excel("iris-dataSet-train.xlsx")


data.head()



x = data.iloc[ : , :-1]


x


 y = data.iloc[ : , -1]


y


# now train the model
model = DecisionTreeClassifier()


model.fit(x.values, y.values)


model.predict([[5.7, 2.6, 3.5, 1]])


# Now we are testing the complete test data set
dataTest = pd.read_excel("iris-dataSet - test.xlsx")
xTest = dataTest.iloc[ : , :-1]

prediction = model.predict(xTest.values)


prediction


yTest = dataTest.iloc[ : ,-1]
actual = yTest.values


count = 0
for i in range(0, len(actual)):
    if actual[i] == prediction[i]:
        count = count + 1

print((count*100)/len(actual))






