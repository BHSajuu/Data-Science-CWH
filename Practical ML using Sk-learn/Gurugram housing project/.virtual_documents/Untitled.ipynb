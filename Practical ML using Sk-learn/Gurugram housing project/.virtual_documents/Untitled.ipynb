import pandas as pd


df = pd.read_csv("housing.csv")


df


df.head()


df.tail()


df.info()


df['ocean_proximity'].value_counts()


df.describe()



