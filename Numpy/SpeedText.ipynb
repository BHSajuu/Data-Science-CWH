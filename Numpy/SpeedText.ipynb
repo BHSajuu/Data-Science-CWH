{
 "cells": [
  {
   "cell_type": "code",
   "execution_count": 3,
   "id": "98bb3c28-9457-4045-9b7e-9b98dd7960ba",
   "metadata": {},
   "outputs": [
    {
     "name": "stdout",
     "output_type": "stream",
     "text": [
      "16.59451723098755\n"
     ]
    }
   ],
   "source": [
    "# using python list\n",
    "\n",
    "import time \n",
    "\n",
    "size = 1_000_000_00\n",
    "\n",
    "l1=list(range(size))\n",
    "l2=list(range(size))\n",
    "\n",
    "start = time.time()\n",
    "add = [x+y for x,y in zip(l1, l2)]\n",
    "end = time.time()\n",
    "\n",
    "print(end -start)"
   ]
  },
  {
   "cell_type": "code",
   "execution_count": 5,
   "id": "741bcca8-dd2e-4fa5-be98-a002ee0c9df7",
   "metadata": {},
   "outputs": [
    {
     "name": "stdout",
     "output_type": "stream",
     "text": [
      "0.13660192489624023\n"
     ]
    }
   ],
   "source": [
    "# using Numpy\n",
    "import numpy as np\n",
    "import time \n",
    "\n",
    "size = 1_000_000_00\n",
    "\n",
    "l1 = np.array(list(range(size)))\n",
    "l2= np.array(list(range(size)))\n",
    "\n",
    "start = time.time()\n",
    "add = l1 + l2\n",
    "end = time.time()\n",
    "\n",
    "print(end -start)"
   ]
  },
  {
   "cell_type": "code",
   "execution_count": 3,
   "id": "bc5568b6-6bc3-4c8d-b54d-d93f992b9c7b",
   "metadata": {},
   "outputs": [
    {
     "name": "stdout",
     "output_type": "stream",
     "text": [
      "12.232691764831543\n"
     ]
    }
   ],
   "source": [
    "import time\n",
    "\n",
    "size = 1_000_000_00\n",
    "list = (range(size))\n",
    "start = time.time()\n",
    "sq = [x ** 2 for x in list]\n",
    "end = time.time()\n",
    "\n",
    "print(end - start)"
   ]
  },
  {
   "cell_type": "code",
   "execution_count": 5,
   "id": "faa81912-b7e8-479a-9989-9466e6ad53c7",
   "metadata": {},
   "outputs": [
    {
     "name": "stdout",
     "output_type": "stream",
     "text": [
      "5.229456901550293\n"
     ]
    }
   ],
   "source": [
    "import time\n",
    "import numpy as np\n",
    "size = 1_000_000_00\n",
    "list = (range(size))\n",
    "arr = np.array(list)\n",
    "start = time.time()\n",
    "\n",
    "sq = arr ** 2 \n",
    "\n",
    "end = time.time()\n",
    "print(end - start)\n",
    "\n"
   ]
  },
  {
   "cell_type": "code",
   "execution_count": null,
   "id": "076dffa7-fe3b-4270-9188-aa5c5daf9e75",
   "metadata": {},
   "outputs": [],
   "source": []
  }
 ],
 "metadata": {
  "kernelspec": {
   "display_name": "Python 3 (ipykernel)",
   "language": "python",
   "name": "python3"
  },
  "language_info": {
   "codemirror_mode": {
    "name": "ipython",
    "version": 3
   },
   "file_extension": ".py",
   "mimetype": "text/x-python",
   "name": "python",
   "nbconvert_exporter": "python",
   "pygments_lexer": "ipython3",
   "version": "3.12.7"
  }
 },
 "nbformat": 4,
 "nbformat_minor": 5
}
