{
 "cells": [
  {
   "cell_type": "code",
   "execution_count": 118,
   "id": "a3386cfe-3e7a-44d6-a7f8-8f84c0cb4f83",
   "metadata": {},
   "outputs": [],
   "source": [
    "import requests\n"
   ]
  },
  {
   "cell_type": "code",
   "execution_count": 119,
   "id": "adb180de-8239-4110-bca4-6941fde9bcf2",
   "metadata": {},
   "outputs": [
    {
     "name": "stdout",
     "output_type": "stream",
     "text": [
      "\n",
      " Scrapping successful!\n"
     ]
    }
   ],
   "source": [
    "res =  requests.get(\"https://quotes.toscrape.com/\")\n",
    "if(res.status_code == 200):\n",
    "    with open(f\"HTML_test/demo1.html\", \"w\" ,encoding=\"utf-8\") as f :\n",
    "        f.write(res.text)\n",
    "    print(\"\\n Scrapping successful!\")\n",
    "\n",
    "else:\n",
    "    print(\"Failed to fetch the page.\")\n"
   ]
  },
  {
   "cell_type": "code",
   "execution_count": 120,
   "id": "ff707b9a-6762-4dca-8b39-33568549e661",
   "metadata": {},
   "outputs": [],
   "source": [
    "from bs4 import BeautifulSoup\n",
    "\n",
    "soup = BeautifulSoup(res.text, \"lxml\")\n"
   ]
  },
  {
   "cell_type": "code",
   "execution_count": 121,
   "id": "855fb7d9-863c-4dd0-ab67-7e0c4eeb019a",
   "metadata": {},
   "outputs": [
    {
     "data": {
      "text/plain": [
       "<h1>\n",
       "<a href=\"/\" style=\"text-decoration: none\">Quotes to Scrape</a>\n",
       "</h1>"
      ]
     },
     "execution_count": 121,
     "metadata": {},
     "output_type": "execute_result"
    }
   ],
   "source": [
    "soup.h1"
   ]
  },
  {
   "cell_type": "code",
   "execution_count": 122,
   "id": "0f48f224-47a6-42f5-b03f-5810fdb47bb6",
   "metadata": {},
   "outputs": [
    {
     "data": {
      "text/plain": [
       "'\\nQuotes to Scrape\\n'"
      ]
     },
     "execution_count": 122,
     "metadata": {},
     "output_type": "execute_result"
    }
   ],
   "source": [
    "soup.h1.text"
   ]
  },
  {
   "cell_type": "code",
   "execution_count": 123,
   "id": "fd54770d-8886-4738-a221-19f3b1a375de",
   "metadata": {},
   "outputs": [
    {
     "data": {
      "text/plain": [
       "<p>\n",
       "<a href=\"/login\">Login</a>\n",
       "</p>"
      ]
     },
     "execution_count": 123,
     "metadata": {},
     "output_type": "execute_result"
    }
   ],
   "source": [
    "soup.p"
   ]
  },
  {
   "cell_type": "code",
   "execution_count": 124,
   "id": "043f97f1-0a78-4490-8122-1143550c4e0f",
   "metadata": {},
   "outputs": [
    {
     "data": {
      "text/plain": [
       "<p>\n",
       "<a href=\"/login\">Login</a>\n",
       "</p>"
      ]
     },
     "execution_count": 124,
     "metadata": {},
     "output_type": "execute_result"
    }
   ],
   "source": [
    "soup.find(\"p\")"
   ]
  },
  {
   "cell_type": "code",
   "execution_count": 125,
   "id": "52f3c7df-10ad-49fe-89ad-882c804efb62",
   "metadata": {},
   "outputs": [
    {
     "data": {
      "text/plain": [
       "'“The world as we have created it is a process of our thinking. It cannot be changed without changing our thinking.”'"
      ]
     },
     "execution_count": 125,
     "metadata": {},
     "output_type": "execute_result"
    }
   ],
   "source": [
    "soup.find(\"span\", class_=\"text\").text"
   ]
  },
  {
   "cell_type": "code",
   "execution_count": 126,
   "id": "79302c24-71ec-48a2-b4b9-a2907b0255d9",
   "metadata": {},
   "outputs": [],
   "source": [
    "qoutes = [span.text for span in soup.find_all(\"span\", class_=\"text\")]\n"
   ]
  },
  {
   "cell_type": "code",
   "execution_count": 127,
   "id": "f1cf5632-c535-4c61-b0ff-355d75381f63",
   "metadata": {},
   "outputs": [],
   "source": [
    "author=[small.text for small in soup.find_all(\"small\" , class_=\"author\")]\n"
   ]
  },
  {
   "cell_type": "code",
   "execution_count": 128,
   "id": "ede5e13a-8333-4c0c-b2d8-1b3224882e76",
   "metadata": {},
   "outputs": [
    {
     "data": {
      "text/plain": [
       "<span class=\"text\" itemprop=\"text\">“The world as we have created it is a process of our thinking. It cannot be changed without changing our thinking.”</span>"
      ]
     },
     "execution_count": 128,
     "metadata": {},
     "output_type": "execute_result"
    }
   ],
   "source": [
    "soup.select_one(\"span.text\")"
   ]
  },
  {
   "cell_type": "code",
   "execution_count": 129,
   "id": "c984394a-0c24-4463-9a18-7e927908f0aa",
   "metadata": {},
   "outputs": [],
   "source": [
    "# Scraping \n",
    "import requests\n",
    "\n",
    "url = \"https://www.flipkart.com/search?q=laptop&sid=6bo%2Cb5g&as=on&as-show=on&otracker=AS_QueryStore_OrganicAutoSuggest_1_3_na_na_na&otracker1=AS_QueryStore_OrganicAutoSuggest_1_3_na_na_na&as-pos=1&as-type=RECENT&suggestionId=laptop%7CLaptops&requestId=bd4c5262-d492-422d-b1dd-c5458ac7ff1a&as-backfill=on\"\n",
    "resF = requests.get(url)\n"
   ]
  },
  {
   "cell_type": "code",
   "execution_count": 130,
   "id": "4b7a7107-d4d7-4551-85ac-db5e30efe35b",
   "metadata": {},
   "outputs": [
    {
     "name": "stdout",
     "output_type": "stream",
     "text": [
      "Downloading done ✅\n"
     ]
    }
   ],
   "source": [
    "if resF.status_code == 200 :\n",
    "    with open(\"HTML_test/flipkart.html\", \"w\" , encoding=\"utf-8\") as f:\n",
    "        f.write(resF.text)\n",
    "    print(\"Downloading done ✅\")\n",
    "else : \n",
    "    print(\"Error occured in downloading❌\")"
   ]
  },
  {
   "cell_type": "code",
   "execution_count": 131,
   "id": "3585f5d0-f698-47e6-a8ea-e7302853a7b3",
   "metadata": {},
   "outputs": [],
   "source": [
    "from bs4 import BeautifulSoup\n",
    "\n",
    "soup = BeautifulSoup(resF.text, \"lxml\")"
   ]
  },
  {
   "cell_type": "code",
   "execution_count": 132,
   "id": "513b6ab0-82fe-480b-b171-f9aaa47cd08b",
   "metadata": {
    "scrolled": true
   },
   "outputs": [
    {
     "data": {
      "text/plain": [
       "[<div class=\"KzDlHZ\">MOTOROLA Motobook 60 Full Metal OLED (i5 14th Gen) Intel Core 5 (Series 2) 210H - (16 GB/512 GB SSD/Wi...</div>,\n",
       " <div class=\"KzDlHZ\">ASUS Chromebook Intel Celeron Dual Core N4500 - (4 GB/128 GB EMMC Storage/Chrome OS) CX1400CKA-NK0488 ...</div>,\n",
       " <div class=\"KzDlHZ\">ASUS Vivobook 15 Intel Core i5 13th Gen 1335U - (16 GB/512 GB SSD/Windows 11 Home) X1504VA-NJ540WS Thi...</div>,\n",
       " <div class=\"KzDlHZ\">Lenovo Slim 5 Co-Pilot Next Gen AI PC Full Metal Snapdragon X Plus - (16 GB/1 TB SSD/Windows 11 Home) ...</div>,\n",
       " <div class=\"KzDlHZ\">Acer Aspire 3 Intel Celeron Dual Core - (8 GB/128 GB SSD/Windows 11 Home) A311-45 Thin and Light Lapto...</div>,\n",
       " <div class=\"KzDlHZ\">HP Chromebook Intel Celeron Dual Core N4120 - (4 GB/64 GB EMMC Storage/Chrome OS) 14a-ca0506TU Chromeb...</div>,\n",
       " <div class=\"KzDlHZ\">Thomson NEO Core Series Intel Core i3 12th Gen 1215U - (8 GB/512 GB SSD/Windows 11 Home) IN-N15I Thin ...</div>,\n",
       " <div class=\"KzDlHZ\">Lenovo V 15 (2025) Intel Celeron Dual Core N4500 - (8 GB/256 GB SSD/Windows 11 Home) V 15 Thin and Lig...</div>,\n",
       " <div class=\"KzDlHZ\">ASUS Vivobook Go 15 AMD Ryzen 5 Quad Core 7520U - (8 GB/512 GB SSD/Windows 11 Home) E1504FA-NJ132WS Th...</div>,\n",
       " <div class=\"KzDlHZ\">Acer Aspire 3 Intel Celeron Dual Core - (8 GB/256 GB SSD/Windows 11 Home) A311-45 Thin and Light Lapto...</div>,\n",
       " <div class=\"KzDlHZ\">Acer Chromebook Plus Google AI Intel Core i3 13th Gen 1315U - (8 GB/256 GB SSD/Chrome OS) CB515-2H-34Y...</div>,\n",
       " <div class=\"KzDlHZ\">DELL 15 Intel Core i3 12th Gen 1215U - (8 GB/512 GB SSD/Windows 11 Home) 3520 Thin and Light Laptop</div>,\n",
       " <div class=\"KzDlHZ\">Acer Aspire 3 Intel Celeron Dual Core - (8 GB/512 GB SSD/Windows 11 Home) A311-45 Thin and Light Lapto...</div>,\n",
       " <div class=\"KzDlHZ\">Lenovo 100e Chromebook Gen 4 MediaTek Kompanio 520 - (4 GB/32 GB EMMC Storage/Chrome OS) 82W00004HA Ch...</div>,\n",
       " <div class=\"KzDlHZ\">ASUS Expertbook P1 Intel Core i5 13th Gen 13420H - (16 GB/512 GB SSD/Windows 11 Home) P1503CVA-S70611W...</div>,\n",
       " <div class=\"KzDlHZ\">Lenovo IdeaPad Slim 3 Intel Core i5 12th Gen 12450H - (8 GB/512 GB SSD/Windows 11 Home) 14IAH8 Thin an...</div>,\n",
       " <div class=\"KzDlHZ\">DELL 15 AMD Ryzen 5 Hexa Core 7530U - (16 GB/512 GB SSD/Windows 11 Home) 3535 Thin and Light Laptop</div>,\n",
       " <div class=\"KzDlHZ\">ASUS Chromebook Intel Celeron Dual Core N4500 - (4 GB/64 GB EMMC Storage/Chrome OS) CX1400CKA-NK0453 C...</div>,\n",
       " <div class=\"KzDlHZ\">ASUS Vivobook 15, with Backlit Keyboard, Intel Core i3 12th Gen 1215U - (8 GB/512 GB SSD/Windows 11 Ho...</div>,\n",
       " <div class=\"KzDlHZ\">Lenovo Yoga Slim 7 AI PC Intel Core Ultra 7 155H - (16 GB/1 TB SSD/Windows 11 Home) 14IMH9 Thin and Li...</div>,\n",
       " <div class=\"KzDlHZ\">ASUS Chromebook Intel Celeron Dual Core N4500 - (4 GB/64 GB EMMC Storage/Chrome OS) CX1500CKA-NJ0393 C...</div>,\n",
       " <div class=\"KzDlHZ\">Lenovo Chromebook Intel Pentium Quad Core N100 - (4 GB/128 GB EMMC Storage/Chrome OS) 14IAN8 Chromeboo...</div>,\n",
       " <div class=\"KzDlHZ\">HP 15 G10 (2025) AMD Ryzen 3 Quad Core 7320U - (8 GB/512 GB SSD/Windows 11 Home) 15 G10 Thin and Light...</div>,\n",
       " <div class=\"KzDlHZ\">Samsung Galaxy Book4 Metal Intel Core i5 13th Gen 1335U - (16 GB/512 GB SSD/Windows 11 Home) NP750XGJ-...</div>]"
      ]
     },
     "execution_count": 132,
     "metadata": {},
     "output_type": "execute_result"
    }
   ],
   "source": [
    "titles = soup.find_all(\"div\" , class_=\"KzDlHZ\")\n",
    "titles"
   ]
  },
  {
   "cell_type": "code",
   "execution_count": 133,
   "id": "72eeb9a3-c0c6-492c-b787-acd601ead826",
   "metadata": {},
   "outputs": [
    {
     "data": {
      "text/plain": [
       "['MOTOROLA Motobook 60 Full Metal OLED (i5 14th Gen) Intel Core 5 (Series 2) 210H - (16 GB/512 GB SSD/Wi...',\n",
       " 'ASUS Chromebook Intel Celeron Dual Core N4500 - (4 GB/128 GB EMMC Storage/Chrome OS) CX1400CKA-NK0488 ...',\n",
       " 'ASUS Vivobook 15 Intel Core i5 13th Gen 1335U - (16 GB/512 GB SSD/Windows 11 Home) X1504VA-NJ540WS Thi...',\n",
       " 'Lenovo Slim 5 Co-Pilot Next Gen AI PC Full Metal Snapdragon X Plus - (16 GB/1 TB SSD/Windows 11 Home) ...',\n",
       " 'Acer Aspire 3 Intel Celeron Dual Core - (8 GB/128 GB SSD/Windows 11 Home) A311-45 Thin and Light Lapto...',\n",
       " 'HP Chromebook Intel Celeron Dual Core N4120 - (4 GB/64 GB EMMC Storage/Chrome OS) 14a-ca0506TU Chromeb...',\n",
       " 'Thomson NEO Core Series Intel Core i3 12th Gen 1215U - (8 GB/512 GB SSD/Windows 11 Home) IN-N15I Thin ...',\n",
       " 'Lenovo V 15 (2025) Intel Celeron Dual Core N4500 - (8 GB/256 GB SSD/Windows 11 Home) V 15 Thin and Lig...',\n",
       " 'ASUS Vivobook Go 15 AMD Ryzen 5 Quad Core 7520U - (8 GB/512 GB SSD/Windows 11 Home) E1504FA-NJ132WS Th...',\n",
       " 'Acer Aspire 3 Intel Celeron Dual Core - (8 GB/256 GB SSD/Windows 11 Home) A311-45 Thin and Light Lapto...',\n",
       " 'Acer Chromebook Plus Google AI Intel Core i3 13th Gen 1315U - (8 GB/256 GB SSD/Chrome OS) CB515-2H-34Y...',\n",
       " 'DELL 15 Intel Core i3 12th Gen 1215U - (8 GB/512 GB SSD/Windows 11 Home) 3520 Thin and Light Laptop',\n",
       " 'Acer Aspire 3 Intel Celeron Dual Core - (8 GB/512 GB SSD/Windows 11 Home) A311-45 Thin and Light Lapto...',\n",
       " 'Lenovo 100e Chromebook Gen 4 MediaTek Kompanio 520 - (4 GB/32 GB EMMC Storage/Chrome OS) 82W00004HA Ch...',\n",
       " 'ASUS Expertbook P1 Intel Core i5 13th Gen 13420H - (16 GB/512 GB SSD/Windows 11 Home) P1503CVA-S70611W...',\n",
       " 'Lenovo IdeaPad Slim 3 Intel Core i5 12th Gen 12450H - (8 GB/512 GB SSD/Windows 11 Home) 14IAH8 Thin an...',\n",
       " 'DELL 15 AMD Ryzen 5 Hexa Core 7530U - (16 GB/512 GB SSD/Windows 11 Home) 3535 Thin and Light Laptop',\n",
       " 'ASUS Chromebook Intel Celeron Dual Core N4500 - (4 GB/64 GB EMMC Storage/Chrome OS) CX1400CKA-NK0453 C...',\n",
       " 'ASUS Vivobook 15, with Backlit Keyboard, Intel Core i3 12th Gen 1215U - (8 GB/512 GB SSD/Windows 11 Ho...',\n",
       " 'Lenovo Yoga Slim 7 AI PC Intel Core Ultra 7 155H - (16 GB/1 TB SSD/Windows 11 Home) 14IMH9 Thin and Li...',\n",
       " 'ASUS Chromebook Intel Celeron Dual Core N4500 - (4 GB/64 GB EMMC Storage/Chrome OS) CX1500CKA-NJ0393 C...',\n",
       " 'Lenovo Chromebook Intel Pentium Quad Core N100 - (4 GB/128 GB EMMC Storage/Chrome OS) 14IAN8 Chromeboo...',\n",
       " 'HP 15 G10 (2025) AMD Ryzen 3 Quad Core 7320U - (8 GB/512 GB SSD/Windows 11 Home) 15 G10 Thin and Light...',\n",
       " 'Samsung Galaxy Book4 Metal Intel Core i5 13th Gen 1335U - (16 GB/512 GB SSD/Windows 11 Home) NP750XGJ-...']"
      ]
     },
     "execution_count": 133,
     "metadata": {},
     "output_type": "execute_result"
    }
   ],
   "source": [
    "titleText = [title.text for title in titles]\n",
    "titleText"
   ]
  },
  {
   "cell_type": "code",
   "execution_count": 134,
   "id": "3539f486-ad45-473d-8f17-6b93ffdb3773",
   "metadata": {},
   "outputs": [
    {
     "data": {
      "text/plain": [
       "['MOTOROLA Motobook 60 Full Metal OLED (i5 14th Gen) Intel Core 5 (Series 2) 210H - (16 GB/512 GB SSD/Wi...',\n",
       " 'ASUS Chromebook Intel Celeron Dual Core N4500 - (4 GB/128 GB EMMC Storage/Chrome OS) CX1400CKA-NK0488 ...',\n",
       " 'ASUS Vivobook 15 Intel Core i5 13th Gen 1335U - (16 GB/512 GB SSD/Windows 11 Home) X1504VA-NJ540WS Thi...',\n",
       " 'Lenovo Slim 5 Co-Pilot Next Gen AI PC Full Metal Snapdragon X Plus - (16 GB/1 TB SSD/Windows 11 Home) ...',\n",
       " 'Acer Aspire 3 Intel Celeron Dual Core - (8 GB/128 GB SSD/Windows 11 Home) A311-45 Thin and Light Lapto...',\n",
       " 'HP Chromebook Intel Celeron Dual Core N4120 - (4 GB/64 GB EMMC Storage/Chrome OS) 14a-ca0506TU Chromeb...',\n",
       " 'Thomson NEO Core Series Intel Core i3 12th Gen 1215U - (8 GB/512 GB SSD/Windows 11 Home) IN-N15I Thin ...',\n",
       " 'Lenovo V 15 (2025) Intel Celeron Dual Core N4500 - (8 GB/256 GB SSD/Windows 11 Home) V 15 Thin and Lig...',\n",
       " 'ASUS Vivobook Go 15 AMD Ryzen 5 Quad Core 7520U - (8 GB/512 GB SSD/Windows 11 Home) E1504FA-NJ132WS Th...',\n",
       " 'Acer Aspire 3 Intel Celeron Dual Core - (8 GB/256 GB SSD/Windows 11 Home) A311-45 Thin and Light Lapto...',\n",
       " 'Acer Chromebook Plus Google AI Intel Core i3 13th Gen 1315U - (8 GB/256 GB SSD/Chrome OS) CB515-2H-34Y...',\n",
       " 'DELL 15 Intel Core i3 12th Gen 1215U - (8 GB/512 GB SSD/Windows 11 Home) 3520 Thin and Light Laptop',\n",
       " 'Acer Aspire 3 Intel Celeron Dual Core - (8 GB/512 GB SSD/Windows 11 Home) A311-45 Thin and Light Lapto...',\n",
       " 'Lenovo 100e Chromebook Gen 4 MediaTek Kompanio 520 - (4 GB/32 GB EMMC Storage/Chrome OS) 82W00004HA Ch...',\n",
       " 'ASUS Expertbook P1 Intel Core i5 13th Gen 13420H - (16 GB/512 GB SSD/Windows 11 Home) P1503CVA-S70611W...',\n",
       " 'Lenovo IdeaPad Slim 3 Intel Core i5 12th Gen 12450H - (8 GB/512 GB SSD/Windows 11 Home) 14IAH8 Thin an...',\n",
       " 'DELL 15 AMD Ryzen 5 Hexa Core 7530U - (16 GB/512 GB SSD/Windows 11 Home) 3535 Thin and Light Laptop',\n",
       " 'ASUS Chromebook Intel Celeron Dual Core N4500 - (4 GB/64 GB EMMC Storage/Chrome OS) CX1400CKA-NK0453 C...',\n",
       " 'ASUS Vivobook 15, with Backlit Keyboard, Intel Core i3 12th Gen 1215U - (8 GB/512 GB SSD/Windows 11 Ho...',\n",
       " 'Lenovo Yoga Slim 7 AI PC Intel Core Ultra 7 155H - (16 GB/1 TB SSD/Windows 11 Home) 14IMH9 Thin and Li...',\n",
       " 'ASUS Chromebook Intel Celeron Dual Core N4500 - (4 GB/64 GB EMMC Storage/Chrome OS) CX1500CKA-NJ0393 C...',\n",
       " 'Lenovo Chromebook Intel Pentium Quad Core N100 - (4 GB/128 GB EMMC Storage/Chrome OS) 14IAN8 Chromeboo...',\n",
       " 'HP 15 G10 (2025) AMD Ryzen 3 Quad Core 7320U - (8 GB/512 GB SSD/Windows 11 Home) 15 G10 Thin and Light...',\n",
       " 'Samsung Galaxy Book4 Metal Intel Core i5 13th Gen 1335U - (16 GB/512 GB SSD/Windows 11 Home) NP750XGJ-...']"
      ]
     },
     "execution_count": 134,
     "metadata": {},
     "output_type": "execute_result"
    }
   ],
   "source": [
    "re = 'ASUS Vivobook S14 (2025) with Office 2024 + M365 Basic*, Metallic Design, Copilot+ PC Qualcomm Snapdra...'\n",
    "titleText = [t for t in titleText if t != re]\n",
    "titleText"
   ]
  },
  {
   "cell_type": "code",
   "execution_count": 135,
   "id": "fc98094f-14ec-48b2-9585-56a14e564c89",
   "metadata": {},
   "outputs": [
    {
     "data": {
      "text/plain": [
       "24"
      ]
     },
     "execution_count": 135,
     "metadata": {},
     "output_type": "execute_result"
    }
   ],
   "source": [
    "names = [text.split(\" \")[0] for text in titleText] \n",
    "len(names)\n"
   ]
  },
  {
   "cell_type": "code",
   "execution_count": 136,
   "id": "82d4f7f8-1138-4f91-8de3-621a9e24700a",
   "metadata": {},
   "outputs": [
    {
     "data": {
      "text/plain": [
       "23"
      ]
     },
     "execution_count": 136,
     "metadata": {},
     "output_type": "execute_result"
    }
   ],
   "source": [
    "prices_all = soup.find_all(\"div\", class_=\"Nx9bqj _4b5DiR\")\n",
    "\n",
    "prices = [\n",
    "    int(tag.get_text(strip=True)\n",
    "        .replace(\"₹\", \"\")\n",
    "        .replace(\",\", \"\"))\n",
    "    for tag in prices_all\n",
    "    if int(tag.get_text(strip=True)\n",
    "           .replace(\"₹\", \"\")\n",
    "           .replace(\",\", \"\")) != 74990\n",
    "]\n",
    "len(price)"
   ]
  },
  {
   "cell_type": "code",
   "execution_count": 137,
   "id": "1b30c9cd-441e-4a1a-9e55-c7528bc0de33",
   "metadata": {},
   "outputs": [
    {
     "data": {
      "text/html": [
       "<div>\n",
       "<style scoped>\n",
       "    .dataframe tbody tr th:only-of-type {\n",
       "        vertical-align: middle;\n",
       "    }\n",
       "\n",
       "    .dataframe tbody tr th {\n",
       "        vertical-align: top;\n",
       "    }\n",
       "\n",
       "    .dataframe thead th {\n",
       "        text-align: right;\n",
       "    }\n",
       "</style>\n",
       "<table border=\"1\" class=\"dataframe\">\n",
       "  <thead>\n",
       "    <tr style=\"text-align: right;\">\n",
       "      <th></th>\n",
       "      <th>name</th>\n",
       "      <th>prices</th>\n",
       "    </tr>\n",
       "  </thead>\n",
       "  <tbody>\n",
       "    <tr>\n",
       "      <th>0</th>\n",
       "      <td>MOTOROLA</td>\n",
       "      <td>60990</td>\n",
       "    </tr>\n",
       "    <tr>\n",
       "      <th>1</th>\n",
       "      <td>ASUS</td>\n",
       "      <td>13990</td>\n",
       "    </tr>\n",
       "    <tr>\n",
       "      <th>2</th>\n",
       "      <td>ASUS</td>\n",
       "      <td>45990</td>\n",
       "    </tr>\n",
       "    <tr>\n",
       "      <th>3</th>\n",
       "      <td>Lenovo</td>\n",
       "      <td>62290</td>\n",
       "    </tr>\n",
       "    <tr>\n",
       "      <th>4</th>\n",
       "      <td>Acer</td>\n",
       "      <td>14990</td>\n",
       "    </tr>\n",
       "    <tr>\n",
       "      <th>5</th>\n",
       "      <td>HP</td>\n",
       "      <td>17990</td>\n",
       "    </tr>\n",
       "    <tr>\n",
       "      <th>6</th>\n",
       "      <td>Thomson</td>\n",
       "      <td>19990</td>\n",
       "    </tr>\n",
       "    <tr>\n",
       "      <th>7</th>\n",
       "      <td>Lenovo</td>\n",
       "      <td>21490</td>\n",
       "    </tr>\n",
       "    <tr>\n",
       "      <th>8</th>\n",
       "      <td>ASUS</td>\n",
       "      <td>32990</td>\n",
       "    </tr>\n",
       "    <tr>\n",
       "      <th>9</th>\n",
       "      <td>Acer</td>\n",
       "      <td>17990</td>\n",
       "    </tr>\n",
       "    <tr>\n",
       "      <th>10</th>\n",
       "      <td>Acer</td>\n",
       "      <td>22990</td>\n",
       "    </tr>\n",
       "    <tr>\n",
       "      <th>11</th>\n",
       "      <td>DELL</td>\n",
       "      <td>32990</td>\n",
       "    </tr>\n",
       "    <tr>\n",
       "      <th>12</th>\n",
       "      <td>Acer</td>\n",
       "      <td>19990</td>\n",
       "    </tr>\n",
       "    <tr>\n",
       "      <th>13</th>\n",
       "      <td>Lenovo</td>\n",
       "      <td>9299</td>\n",
       "    </tr>\n",
       "    <tr>\n",
       "      <th>14</th>\n",
       "      <td>ASUS</td>\n",
       "      <td>51990</td>\n",
       "    </tr>\n",
       "    <tr>\n",
       "      <th>15</th>\n",
       "      <td>Lenovo</td>\n",
       "      <td>39990</td>\n",
       "    </tr>\n",
       "    <tr>\n",
       "      <th>16</th>\n",
       "      <td>DELL</td>\n",
       "      <td>43990</td>\n",
       "    </tr>\n",
       "    <tr>\n",
       "      <th>17</th>\n",
       "      <td>ASUS</td>\n",
       "      <td>13990</td>\n",
       "    </tr>\n",
       "    <tr>\n",
       "      <th>18</th>\n",
       "      <td>ASUS</td>\n",
       "      <td>30990</td>\n",
       "    </tr>\n",
       "    <tr>\n",
       "      <th>19</th>\n",
       "      <td>Lenovo</td>\n",
       "      <td>75990</td>\n",
       "    </tr>\n",
       "    <tr>\n",
       "      <th>20</th>\n",
       "      <td>ASUS</td>\n",
       "      <td>14990</td>\n",
       "    </tr>\n",
       "    <tr>\n",
       "      <th>21</th>\n",
       "      <td>Lenovo</td>\n",
       "      <td>18990</td>\n",
       "    </tr>\n",
       "    <tr>\n",
       "      <th>22</th>\n",
       "      <td>HP</td>\n",
       "      <td>27990</td>\n",
       "    </tr>\n",
       "    <tr>\n",
       "      <th>23</th>\n",
       "      <td>Samsung</td>\n",
       "      <td>52990</td>\n",
       "    </tr>\n",
       "  </tbody>\n",
       "</table>\n",
       "</div>"
      ],
      "text/plain": [
       "        name  prices\n",
       "0   MOTOROLA   60990\n",
       "1       ASUS   13990\n",
       "2       ASUS   45990\n",
       "3     Lenovo   62290\n",
       "4       Acer   14990\n",
       "5         HP   17990\n",
       "6    Thomson   19990\n",
       "7     Lenovo   21490\n",
       "8       ASUS   32990\n",
       "9       Acer   17990\n",
       "10      Acer   22990\n",
       "11      DELL   32990\n",
       "12      Acer   19990\n",
       "13    Lenovo    9299\n",
       "14      ASUS   51990\n",
       "15    Lenovo   39990\n",
       "16      DELL   43990\n",
       "17      ASUS   13990\n",
       "18      ASUS   30990\n",
       "19    Lenovo   75990\n",
       "20      ASUS   14990\n",
       "21    Lenovo   18990\n",
       "22        HP   27990\n",
       "23   Samsung   52990"
      ]
     },
     "execution_count": 137,
     "metadata": {},
     "output_type": "execute_result"
    }
   ],
   "source": [
    "import pandas as pd\n",
    "\n",
    "df = pd.DataFrame({\n",
    "    \"name\": names,\n",
    "    \"prices\": prices\n",
    "})\n",
    "\n",
    "df"
   ]
  },
  {
   "cell_type": "code",
   "execution_count": 139,
   "id": "b2b4d79e-0a47-43ea-9069-6029ce0779cb",
   "metadata": {},
   "outputs": [],
   "source": [
    "import numpy as np\n",
    "\n",
    "y = np.array(prices)\n"
   ]
  },
  {
   "cell_type": "code",
   "execution_count": 140,
   "id": "1ed9222d-796c-4fa0-a59f-950f68f057ac",
   "metadata": {},
   "outputs": [
    {
     "data": {
      "image/png": "[encoded data removed]",
      "text/plain": [
       "<Figure size 1200x600 with 1 Axes>"
      ]
     },
     "metadata": {},
     "output_type": "display_data"
    }
   ],
   "source": [
    "# ploting the data\n",
    "import matplotlib.pyplot as plt\n",
    "\n",
    "plt.figure(figsize=(12, 6))\n",
    "plt.bar(names, y, color='skyblue')\n",
    "plt.xticks(rotation=90)  # Rotate names for readability\n",
    "plt.xlabel('Product Name')\n",
    "plt.ylabel('Price (INR)')\n",
    "plt.title('Price of Products')\n",
    "plt.tight_layout()\n",
    "plt.show()\n"
   ]
  },
  {
   "cell_type": "code",
   "execution_count": 141,
   "id": "6b7719e5-e821-4c42-b892-0a4663db2a2b",
   "metadata": {},
   "outputs": [
    {
     "data": {
      "image/png": "[encoded data removed]",
      "text/plain": [
       "<Figure size 1000x600 with 1 Axes>"
      ]
     },
     "metadata": {},
     "output_type": "display_data"
    }
   ],
   "source": [
    "import pandas as pd\n",
    "\n",
    "df = pd.DataFrame({\"name\": names, \"price\": prices})\n",
    "df['brand'] = df['name'].str.split().str[0]  # e.g. \"DELL\", \"ASUS\"\n",
    "brand_avgs = df.groupby('brand')['price'].mean().sort_values()\n",
    "\n",
    "# Then plot\n",
    "plt.figure(figsize=(10,6))\n",
    "brand_avgs.plot(kind='bar', color='orange')\n",
    "plt.xticks(rotation=45)\n",
    "plt.ylabel('Average Price (INR)')\n",
    "plt.title('Average Price by Brand')\n",
    "plt.tight_layout()\n",
    "plt.show()\n"
   ]
  },
  {
   "cell_type": "code",
   "execution_count": null,
   "id": "e1b00dd5-b896-496e-8b6f-afa5ea21001e",
   "metadata": {},
   "outputs": [],
   "source": []
  }
 ],
 "metadata": {
  "kernelspec": {
   "display_name": "Python 3 (ipykernel)",
   "language": "python",
   "name": "python3"
  },
  "language_info": {
   "codemirror_mode": {
    "name": "ipython",
    "version": 3
   },
   "file_extension": ".py",
   "mimetype": "text/x-python",
   "name": "python",
   "nbconvert_exporter": "python",
   "pygments_lexer": "ipython3",
   "version": "3.12.7"
  }
 },
 "nbformat": 4,
 "nbformat_minor": 5
}
