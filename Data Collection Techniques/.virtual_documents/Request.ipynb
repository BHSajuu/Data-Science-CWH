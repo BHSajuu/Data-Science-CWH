import requests


a  = requests.get("https://books.toscrape.com/")


with open (f"html/page1.html","w") as f :
    f.write(a.text)


for i in range(1,51):
    a = requests.get(f"https://books.toscrape.com/catalogue/page-{i}.html")
    with open(f"html/page{i}.html", "w" , encoding="utf-8") as f:
        f.write(a.text)
    print(f"Page{i} download completed")



