import requests



res =  requests.get("https://quotes.toscrape.com/")
if(res.status_code == 200):
    with open(f"HTML_test/demo1.html", "w" ,encoding="utf-8") as f :
        f.write(res.text)
    print("\n Scrapping successful!")

else:
    print("Failed to fetch the page.")



from bs4 import BeautifulSoup

soup = BeautifulSoup(res.text, "lxml")



soup.h1


soup.h1.text


soup.p


soup.find("p")


soup.find("span", class_="text").text


qoutes = [span.text for span in soup.find_all("span", class_="text")]



author=[small.text for small in soup.find_all("small" , class_="author")]



soup.select_one("span.text")


# Scraping 
import requests

url = "https://www.flipkart.com/search?q=laptop&sid=6bo%2Cb5g&as=on&as-show=on&otracker=AS_QueryStore_OrganicAutoSuggest_1_3_na_na_na&otracker1=AS_QueryStore_OrganicAutoSuggest_1_3_na_na_na&as-pos=1&as-type=RECENT&suggestionId=laptop%7CLaptops&requestId=bd4c5262-d492-422d-b1dd-c5458ac7ff1a&as-backfill=on"
resF = requests.get(url)



if resF.status_code == 200 :
    with open("HTML_test/flipkart.html", "w" , encoding="utf-8") as f:
        f.write(resF.text)
    print("Downloading done ✅")
else : 
    print("Error occured in downloading❌")


from bs4 import BeautifulSoup

soup = BeautifulSoup(resF.text, "lxml")


titles = soup.find_all("div" , class_="KzDlHZ")
titles


titleText = [title.text for title in titles]
titleText


re = 'ASUS Vivobook S14 (2025) with Office 2024 + M365 Basic*, Metallic Design, Copilot+ PC Qualcomm Snapdra...'
titleText = [t for t in titleText if t != re]
titleText


names = [text.split(" ")[0] for text in titleText] 
len(names)



prices_all = soup.find_all("div", class_="Nx9bqj _4b5DiR")

prices = [
    int(tag.get_text(strip=True)
        .replace("₹", "")
        .replace(",", ""))
    for tag in prices_all
    if int(tag.get_text(strip=True)
           .replace("₹", "")
           .replace(",", "")) != 74990
]
len(price)


import pandas as pd

df = pd.DataFrame({
    "name": names,
    "prices": prices
})

df


import numpy as np

y = np.array(prices)



# ploting the data
import matplotlib.pyplot as plt

plt.figure(figsize=(12, 6))
plt.bar(names, y, color='skyblue')
plt.xticks(rotation=90)  # Rotate names for readability
plt.xlabel('Product Name')
plt.ylabel('Price (INR)')
plt.title('Price of Products')
plt.tight_layout()
plt.show()



import pandas as pd

df = pd.DataFrame({"name": names, "price": prices})
df['brand'] = df['name'].str.split().str[0]  # e.g. "DELL", "ASUS"
brand_avgs = df.groupby('brand')['price'].mean().sort_values()

# Then plot
plt.figure(figsize=(10,6))
brand_avgs.plot(kind='bar', color='orange')
plt.xticks(rotation=45)
plt.ylabel('Average Price (INR)')
plt.title('Average Price by Brand')
plt.tight_layout()
plt.show()




