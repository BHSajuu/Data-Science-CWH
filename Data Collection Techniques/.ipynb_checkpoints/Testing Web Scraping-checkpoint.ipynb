{
 "cells": [
  {
   "cell_type": "code",
   "execution_count": 1,
   "id": "a3386cfe-3e7a-44d6-a7f8-8f84c0cb4f83",
   "metadata": {},
   "outputs": [],
   "source": [
    "import requests\n"
   ]
  },
  {
   "cell_type": "code",
   "execution_count": 4,
   "id": "adb180de-8239-4110-bca4-6941fde9bcf2",
   "metadata": {},
   "outputs": [
    {
     "name": "stdout",
     "output_type": "stream",
     "text": [
      "\n",
      " Scrapping successful!\n"
     ]
    }
   ],
   "source": [
    "res =  requests.get(\"https://quotes.toscrape.com/\")\n",
    "if(res.status_code == 200):\n",
    "    with open(f\"HTML_test/demo1.html\", \"w\" ,encoding=\"utf-8\") as f :\n",
    "        f.write(res.text)\n",
    "    print(\"\\n Scrapping successful!\")\n",
    "\n",
    "else:\n",
    "    print(\"Failed to fetch the page.\")\n"
   ]
  },
  {
   "cell_type": "code",
   "execution_count": 32,
   "id": "ff707b9a-6762-4dca-8b39-33568549e661",
   "metadata": {},
   "outputs": [],
   "source": [
    "from bs4 import BeautifulSoup\n",
    "\n",
    "soup = BeautifulSoup(res.text, \"lxml\")\n"
   ]
  },
  {
   "cell_type": "code",
   "execution_count": 9,
   "id": "855fb7d9-863c-4dd0-ab67-7e0c4eeb019a",
   "metadata": {},
   "outputs": [
    {
     "data": {
      "text/plain": [
       "<h1>\n",
       "<a href=\"/\" style=\"text-decoration: none\">Quotes to Scrape</a>\n",
       "</h1>"
      ]
     },
     "execution_count": 9,
     "metadata": {},
     "output_type": "execute_result"
    }
   ],
   "source": [
    "soup.h1"
   ]
  },
  {
   "cell_type": "code",
   "execution_count": 10,
   "id": "0f48f224-47a6-42f5-b03f-5810fdb47bb6",
   "metadata": {},
   "outputs": [
    {
     "data": {
      "text/plain": [
       "'\\nQuotes to Scrape\\n'"
      ]
     },
     "execution_count": 10,
     "metadata": {},
     "output_type": "execute_result"
    }
   ],
   "source": [
    "soup.h1.text"
   ]
  },
  {
   "cell_type": "code",
   "execution_count": 11,
   "id": "fd54770d-8886-4738-a221-19f3b1a375de",
   "metadata": {},
   "outputs": [
    {
     "data": {
      "text/plain": [
       "<p>\n",
       "<a href=\"/login\">Login</a>\n",
       "</p>"
      ]
     },
     "execution_count": 11,
     "metadata": {},
     "output_type": "execute_result"
    }
   ],
   "source": [
    "soup.p"
   ]
  },
  {
   "cell_type": "code",
   "execution_count": 13,
   "id": "043f97f1-0a78-4490-8122-1143550c4e0f",
   "metadata": {},
   "outputs": [
    {
     "data": {
      "text/plain": [
       "<p>\n",
       "<a href=\"/login\">Login</a>\n",
       "</p>"
      ]
     },
     "execution_count": 13,
     "metadata": {},
     "output_type": "execute_result"
    }
   ],
   "source": [
    "soup.find(\"p\")"
   ]
  },
  {
   "cell_type": "code",
   "execution_count": 15,
   "id": "52f3c7df-10ad-49fe-89ad-882c804efb62",
   "metadata": {},
   "outputs": [
    {
     "data": {
      "text/plain": [
       "'“The world as we have created it is a process of our thinking. It cannot be changed without changing our thinking.”'"
      ]
     },
     "execution_count": 15,
     "metadata": {},
     "output_type": "execute_result"
    }
   ],
   "source": [
    "soup.find(\"span\", class_=\"text\").text"
   ]
  },
  {
   "cell_type": "code",
   "execution_count": 34,
   "id": "79302c24-71ec-48a2-b4b9-a2907b0255d9",
   "metadata": {},
   "outputs": [],
   "source": [
    "qoutes = [span.text for span in soup.find_all(\"span\", class_=\"text\")]\n"
   ]
  },
  {
   "cell_type": "code",
   "execution_count": 35,
   "id": "f1cf5632-c535-4c61-b0ff-355d75381f63",
   "metadata": {},
   "outputs": [],
   "source": [
    "author=[small.text for small in soup.find_all(\"small\" , class_=\"author\")]\n"
   ]
  },
  {
   "cell_type": "code",
   "execution_count": 29,
   "id": "ede5e13a-8333-4c0c-b2d8-1b3224882e76",
   "metadata": {},
   "outputs": [
    {
     "data": {
      "text/plain": [
       "<span class=\"text\" itemprop=\"text\">“The world as we have created it is a process of our thinking. It cannot be changed without changing our thinking.”</span>"
      ]
     },
     "execution_count": 29,
     "metadata": {},
     "output_type": "execute_result"
    }
   ],
   "source": [
    "soup.select_one(\"span.text\")"
   ]
  },
  {
   "cell_type": "code",
   "execution_count": 39,
   "id": "c984394a-0c24-4463-9a18-7e927908f0aa",
   "metadata": {},
   "outputs": [],
   "source": [
    "# Scraping \n",
    "import requests\n",
    "\n",
    "url = \"https://www.flipkart.com/search?q=laptop&sid=6bo%2Cb5g&as=on&as-show=on&otracker=AS_QueryStore_OrganicAutoSuggest_1_3_na_na_na&otracker1=AS_QueryStore_OrganicAutoSuggest_1_3_na_na_na&as-pos=1&as-type=RECENT&suggestionId=laptop%7CLaptops&requestId=bd4c5262-d492-422d-b1dd-c5458ac7ff1a&as-backfill=on\"\n",
    "resF = requests.get(url)\n"
   ]
  },
  {
   "cell_type": "code",
   "execution_count": 40,
   "id": "4b7a7107-d4d7-4551-85ac-db5e30efe35b",
   "metadata": {},
   "outputs": [
    {
     "name": "stdout",
     "output_type": "stream",
     "text": [
      "Downloading done ✅\n"
     ]
    }
   ],
   "source": [
    "if resF.status_code == 200 :\n",
    "    with open(\"HTML_test/flipkart.html\", \"w\" , encoding=\"utf-8\") as f:\n",
    "        f.write(resF.text)\n",
    "    print(\"Downloading done ✅\")\n",
    "else : \n",
    "    print(\"Error occured in downloading❌\")"
   ]
  },
  {
   "cell_type": "code",
   "execution_count": 41,
   "id": "3585f5d0-f698-47e6-a8ea-e7302853a7b3",
   "metadata": {},
   "outputs": [],
   "source": [
    "from bs4 import BeautifulSoup\n",
    "\n",
    "soup = BeautifulSoup(resF.text, \"lxml\")"
   ]
  },
  {
   "cell_type": "code",
   "execution_count": 46,
   "id": "513b6ab0-82fe-480b-b171-f9aaa47cd08b",
   "metadata": {
    "scrolled": true
   },
   "outputs": [
    {
     "data": {
      "text/plain": [
       "[<div class=\"KzDlHZ\">DELL 15 AMD Ryzen 5 Hexa Core 7530U - (16 GB/512 GB SSD/Windows 11 Home) 3535 Thin and Light Laptop</div>,\n",
       " <div class=\"KzDlHZ\">ASUS Vivobook S14 (2025) with Office 2024 + M365 Basic*, Metallic Design, Copilot+ PC Qualcomm Snapdra...</div>,\n",
       " <div class=\"KzDlHZ\">ASUS Vivobook 15 Intel Core i5 13th Gen 1335U - (16 GB/512 GB SSD/Windows 11 Home) X1504VA-NJ540WS Thi...</div>,\n",
       " <div class=\"KzDlHZ\">Lenovo Slim 5 Co-Pilot Next Gen AI PC Full Metal Snapdragon X Plus - (16 GB/1 TB SSD/Windows 11 Home) ...</div>,\n",
       " <div class=\"KzDlHZ\">Acer Aspire 3 Intel Celeron Dual Core - (8 GB/128 GB SSD/Windows 11 Home) A311-45 Thin and Light Lapto...</div>,\n",
       " <div class=\"KzDlHZ\">HP AMD Ryzen 5 Quad Core 7520U - (16 GB/512 GB SSD/Windows 11 Home) 15-fc0156AU Thin and Light Laptop</div>,\n",
       " <div class=\"KzDlHZ\">Thomson NEO Core Series Intel Core i3 12th Gen 1215U - (8 GB/512 GB SSD/Windows 11 Home) IN-N15I Thin ...</div>,\n",
       " <div class=\"KzDlHZ\">Lenovo V 15 (2025) Intel Celeron Dual Core N4500 - (8 GB/256 GB SSD/Windows 11 Home) V 15 Thin and Lig...</div>,\n",
       " <div class=\"KzDlHZ\">Lenovo 100e Chromebook Gen 4 MediaTek Kompanio 520 - (4 GB/32 GB EMMC Storage/Chrome OS) 82W00004HA Ch...</div>,\n",
       " <div class=\"KzDlHZ\">ASUS Vivobook Go 15 AMD Ryzen 5 Quad Core 7520U - (8 GB/512 GB SSD/Windows 11 Home) E1504FA-NJ132WS Th...</div>,\n",
       " <div class=\"KzDlHZ\">ASUS Chromebook Intel Celeron Dual Core N4500 - (4 GB/128 GB EMMC Storage/Chrome OS) CX1400CKA-NK0488 ...</div>,\n",
       " <div class=\"KzDlHZ\">Acer Chromebook Plus Google AI Intel Core i3 13th Gen 1315U - (8 GB/256 GB SSD/Chrome OS) CB515-2H-34Y...</div>,\n",
       " <div class=\"KzDlHZ\">Acer Aspire 3 Intel Celeron Dual Core - (8 GB/256 GB SSD/Windows 11 Home) A311-45 Thin and Light Lapto...</div>,\n",
       " <div class=\"KzDlHZ\">Acer Aspire 3 Intel Celeron Dual Core - (8 GB/512 GB SSD/Windows 11 Home) A311-45 Thin and Light Lapto...</div>,\n",
       " <div class=\"KzDlHZ\">ASUS Expertbook P1 Intel Core i5 13th Gen 13420H - (16 GB/512 GB SSD/Windows 11 Home) P1503CVA-S70611W...</div>,\n",
       " <div class=\"KzDlHZ\">Lenovo IdeaPad Slim 3 Intel Core i5 12th Gen 12450H - (8 GB/512 GB SSD/Windows 11 Home) 14IAH8 Thin an...</div>,\n",
       " <div class=\"KzDlHZ\">MOTOROLA Motobook 60 Full Metal OLED (i5 14th Gen) Intel Core 5 (Series 2) 210H - (16 GB/512 GB SSD/Wi...</div>,\n",
       " <div class=\"KzDlHZ\">HP OmniBook 7 Aero AMD Ryzen AI 5 Hexa Core AI 5 340 - (16 GB/512 GB SSD/Windows 11 Home) 13-bg1678AU ...</div>,\n",
       " <div class=\"KzDlHZ\">ASUS Vivobook 15, with Backlit Keyboard, Intel Core i3 12th Gen 1215U - (8 GB/512 GB SSD/Windows 11 Ho...</div>,\n",
       " <div class=\"KzDlHZ\">Samsung Galaxy Book4 Metal Intel Core i5 13th Gen 1335U - (16 GB/512 GB SSD/Windows 11 Home) NP750XGJ-...</div>,\n",
       " <div class=\"KzDlHZ\">HP OmniBook 7 Aero AMD Ryzen AI 7 Octa Core AI 7 350 - (16 GB/512 GB SSD/Windows 11 Home) 13-bg1456AU ...</div>,\n",
       " <div class=\"KzDlHZ\">ASUS TUF Gaming A15 AMD Ryzen 7 Octa Core 7435HS - (8 GB/512 GB SSD/Windows 11 Home/4 GB Graphics/NVID...</div>,\n",
       " <div class=\"KzDlHZ\">Lenovo Yoga Slim 7 AI PC Intel Core Ultra 7 155H - (16 GB/1 TB SSD/Windows 11 Home) 14IMH9 Thin and Li...</div>,\n",
       " <div class=\"KzDlHZ\">Acer Swift Neo OLED AI PC Intel Core Ultra 5 115U - (16 GB/512 GB SSD/Windows 11 Home) SFN14-54H Thin ...</div>]"
      ]
     },
     "execution_count": 46,
     "metadata": {},
     "output_type": "execute_result"
    }
   ],
   "source": [
    "titles = soup.find_all(\"div\" , class_=\"KzDlHZ\")\n",
    "titles"
   ]
  },
  {
   "cell_type": "code",
   "execution_count": 56,
   "id": "72eeb9a3-c0c6-492c-b787-acd601ead826",
   "metadata": {},
   "outputs": [
    {
     "data": {
      "text/plain": [
       "['DELL 15 AMD Ryzen 5 Hexa Core 7530U - (16 GB/512 GB SSD/Windows 11 Home) 3535 Thin and Light Laptop',\n",
       " 'ASUS Vivobook S14 (2025) with Office 2024 + M365 Basic*, Metallic Design, Copilot+ PC Qualcomm Snapdra...',\n",
       " 'ASUS Vivobook 15 Intel Core i5 13th Gen 1335U - (16 GB/512 GB SSD/Windows 11 Home) X1504VA-NJ540WS Thi...',\n",
       " 'Lenovo Slim 5 Co-Pilot Next Gen AI PC Full Metal Snapdragon X Plus - (16 GB/1 TB SSD/Windows 11 Home) ...',\n",
       " 'Acer Aspire 3 Intel Celeron Dual Core - (8 GB/128 GB SSD/Windows 11 Home) A311-45 Thin and Light Lapto...',\n",
       " 'HP AMD Ryzen 5 Quad Core 7520U - (16 GB/512 GB SSD/Windows 11 Home) 15-fc0156AU Thin and Light Laptop',\n",
       " 'Thomson NEO Core Series Intel Core i3 12th Gen 1215U - (8 GB/512 GB SSD/Windows 11 Home) IN-N15I Thin ...',\n",
       " 'Lenovo V 15 (2025) Intel Celeron Dual Core N4500 - (8 GB/256 GB SSD/Windows 11 Home) V 15 Thin and Lig...',\n",
       " 'Lenovo 100e Chromebook Gen 4 MediaTek Kompanio 520 - (4 GB/32 GB EMMC Storage/Chrome OS) 82W00004HA Ch...',\n",
       " 'ASUS Vivobook Go 15 AMD Ryzen 5 Quad Core 7520U - (8 GB/512 GB SSD/Windows 11 Home) E1504FA-NJ132WS Th...',\n",
       " 'ASUS Chromebook Intel Celeron Dual Core N4500 - (4 GB/128 GB EMMC Storage/Chrome OS) CX1400CKA-NK0488 ...',\n",
       " 'Acer Chromebook Plus Google AI Intel Core i3 13th Gen 1315U - (8 GB/256 GB SSD/Chrome OS) CB515-2H-34Y...',\n",
       " 'Acer Aspire 3 Intel Celeron Dual Core - (8 GB/256 GB SSD/Windows 11 Home) A311-45 Thin and Light Lapto...',\n",
       " 'Acer Aspire 3 Intel Celeron Dual Core - (8 GB/512 GB SSD/Windows 11 Home) A311-45 Thin and Light Lapto...',\n",
       " 'ASUS Expertbook P1 Intel Core i5 13th Gen 13420H - (16 GB/512 GB SSD/Windows 11 Home) P1503CVA-S70611W...',\n",
       " 'Lenovo IdeaPad Slim 3 Intel Core i5 12th Gen 12450H - (8 GB/512 GB SSD/Windows 11 Home) 14IAH8 Thin an...',\n",
       " 'MOTOROLA Motobook 60 Full Metal OLED (i5 14th Gen) Intel Core 5 (Series 2) 210H - (16 GB/512 GB SSD/Wi...',\n",
       " 'HP OmniBook 7 Aero AMD Ryzen AI 5 Hexa Core AI 5 340 - (16 GB/512 GB SSD/Windows 11 Home) 13-bg1678AU ...',\n",
       " 'ASUS Vivobook 15, with Backlit Keyboard, Intel Core i3 12th Gen 1215U - (8 GB/512 GB SSD/Windows 11 Ho...',\n",
       " 'Samsung Galaxy Book4 Metal Intel Core i5 13th Gen 1335U - (16 GB/512 GB SSD/Windows 11 Home) NP750XGJ-...',\n",
       " 'HP OmniBook 7 Aero AMD Ryzen AI 7 Octa Core AI 7 350 - (16 GB/512 GB SSD/Windows 11 Home) 13-bg1456AU ...',\n",
       " 'ASUS TUF Gaming A15 AMD Ryzen 7 Octa Core 7435HS - (8 GB/512 GB SSD/Windows 11 Home/4 GB Graphics/NVID...',\n",
       " 'Lenovo Yoga Slim 7 AI PC Intel Core Ultra 7 155H - (16 GB/1 TB SSD/Windows 11 Home) 14IMH9 Thin and Li...',\n",
       " 'Acer Swift Neo OLED AI PC Intel Core Ultra 5 115U - (16 GB/512 GB SSD/Windows 11 Home) SFN14-54H Thin ...']"
      ]
     },
     "execution_count": 56,
     "metadata": {},
     "output_type": "execute_result"
    }
   ],
   "source": [
    "titleText = [title.text for title in titles]\n",
    "titleText"
   ]
  },
  {
   "cell_type": "code",
   "execution_count": 58,
   "id": "3539f486-ad45-473d-8f17-6b93ffdb3773",
   "metadata": {},
   "outputs": [
    {
     "data": {
      "text/plain": [
       "['DELL 15 AMD Ryzen 5 Hexa Core 7530U - (16 GB/512 GB SSD/Windows 11 Home) 3535 Thin and Light Laptop',\n",
       " 'ASUS Vivobook 15 Intel Core i5 13th Gen 1335U - (16 GB/512 GB SSD/Windows 11 Home) X1504VA-NJ540WS Thi...',\n",
       " 'Lenovo Slim 5 Co-Pilot Next Gen AI PC Full Metal Snapdragon X Plus - (16 GB/1 TB SSD/Windows 11 Home) ...',\n",
       " 'Acer Aspire 3 Intel Celeron Dual Core - (8 GB/128 GB SSD/Windows 11 Home) A311-45 Thin and Light Lapto...',\n",
       " 'HP AMD Ryzen 5 Quad Core 7520U - (16 GB/512 GB SSD/Windows 11 Home) 15-fc0156AU Thin and Light Laptop',\n",
       " 'Thomson NEO Core Series Intel Core i3 12th Gen 1215U - (8 GB/512 GB SSD/Windows 11 Home) IN-N15I Thin ...',\n",
       " 'Lenovo V 15 (2025) Intel Celeron Dual Core N4500 - (8 GB/256 GB SSD/Windows 11 Home) V 15 Thin and Lig...',\n",
       " 'Lenovo 100e Chromebook Gen 4 MediaTek Kompanio 520 - (4 GB/32 GB EMMC Storage/Chrome OS) 82W00004HA Ch...',\n",
       " 'ASUS Vivobook Go 15 AMD Ryzen 5 Quad Core 7520U - (8 GB/512 GB SSD/Windows 11 Home) E1504FA-NJ132WS Th...',\n",
       " 'ASUS Chromebook Intel Celeron Dual Core N4500 - (4 GB/128 GB EMMC Storage/Chrome OS) CX1400CKA-NK0488 ...',\n",
       " 'Acer Chromebook Plus Google AI Intel Core i3 13th Gen 1315U - (8 GB/256 GB SSD/Chrome OS) CB515-2H-34Y...',\n",
       " 'Acer Aspire 3 Intel Celeron Dual Core - (8 GB/256 GB SSD/Windows 11 Home) A311-45 Thin and Light Lapto...',\n",
       " 'Acer Aspire 3 Intel Celeron Dual Core - (8 GB/512 GB SSD/Windows 11 Home) A311-45 Thin and Light Lapto...',\n",
       " 'ASUS Expertbook P1 Intel Core i5 13th Gen 13420H - (16 GB/512 GB SSD/Windows 11 Home) P1503CVA-S70611W...',\n",
       " 'Lenovo IdeaPad Slim 3 Intel Core i5 12th Gen 12450H - (8 GB/512 GB SSD/Windows 11 Home) 14IAH8 Thin an...',\n",
       " 'MOTOROLA Motobook 60 Full Metal OLED (i5 14th Gen) Intel Core 5 (Series 2) 210H - (16 GB/512 GB SSD/Wi...',\n",
       " 'HP OmniBook 7 Aero AMD Ryzen AI 5 Hexa Core AI 5 340 - (16 GB/512 GB SSD/Windows 11 Home) 13-bg1678AU ...',\n",
       " 'ASUS Vivobook 15, with Backlit Keyboard, Intel Core i3 12th Gen 1215U - (8 GB/512 GB SSD/Windows 11 Ho...',\n",
       " 'Samsung Galaxy Book4 Metal Intel Core i5 13th Gen 1335U - (16 GB/512 GB SSD/Windows 11 Home) NP750XGJ-...',\n",
       " 'HP OmniBook 7 Aero AMD Ryzen AI 7 Octa Core AI 7 350 - (16 GB/512 GB SSD/Windows 11 Home) 13-bg1456AU ...',\n",
       " 'ASUS TUF Gaming A15 AMD Ryzen 7 Octa Core 7435HS - (8 GB/512 GB SSD/Windows 11 Home/4 GB Graphics/NVID...',\n",
       " 'Lenovo Yoga Slim 7 AI PC Intel Core Ultra 7 155H - (16 GB/1 TB SSD/Windows 11 Home) 14IMH9 Thin and Li...',\n",
       " 'Acer Swift Neo OLED AI PC Intel Core Ultra 5 115U - (16 GB/512 GB SSD/Windows 11 Home) SFN14-54H Thin ...']"
      ]
     },
     "execution_count": 58,
     "metadata": {},
     "output_type": "execute_result"
    }
   ],
   "source": [
    "re = 'ASUS Vivobook S14 (2025) with Office 2024 + M365 Basic*, Metallic Design, Copilot+ PC Qualcomm Snapdra...'\n",
    "titleText = [t for t in titleText if t != re]\n",
    "titleText"
   ]
  },
  {
   "cell_type": "code",
   "execution_count": 60,
   "id": "fc98094f-14ec-48b2-9585-56a14e564c89",
   "metadata": {},
   "outputs": [
    {
     "data": {
      "text/plain": [
       "['DELL 15 AMD Ryzen 5 Hexa Core 7530U ',\n",
       " 'ASUS Vivobook 15 Intel Core i5 13th Gen 1335U ',\n",
       " 'Lenovo Slim 5 Co',\n",
       " 'Acer Aspire 3 Intel Celeron Dual Core ',\n",
       " 'HP AMD Ryzen 5 Quad Core 7520U ',\n",
       " 'Thomson NEO Core Series Intel Core i3 12th Gen 1215U ',\n",
       " 'Lenovo V 15 (2025) Intel Celeron Dual Core N4500 ',\n",
       " 'Lenovo 100e Chromebook Gen 4 MediaTek Kompanio 520 ',\n",
       " 'ASUS Vivobook Go 15 AMD Ryzen 5 Quad Core 7520U ',\n",
       " 'ASUS Chromebook Intel Celeron Dual Core N4500 ',\n",
       " 'Acer Chromebook Plus Google AI Intel Core i3 13th Gen 1315U ',\n",
       " 'Acer Aspire 3 Intel Celeron Dual Core ',\n",
       " 'Acer Aspire 3 Intel Celeron Dual Core ',\n",
       " 'ASUS Expertbook P1 Intel Core i5 13th Gen 13420H ',\n",
       " 'Lenovo IdeaPad Slim 3 Intel Core i5 12th Gen 12450H ',\n",
       " 'MOTOROLA Motobook 60 Full Metal OLED (i5 14th Gen) Intel Core 5 (Series 2) 210H ',\n",
       " 'HP OmniBook 7 Aero AMD Ryzen AI 5 Hexa Core AI 5 340 ',\n",
       " 'ASUS Vivobook 15, with Backlit Keyboard, Intel Core i3 12th Gen 1215U ',\n",
       " 'Samsung Galaxy Book4 Metal Intel Core i5 13th Gen 1335U ',\n",
       " 'HP OmniBook 7 Aero AMD Ryzen AI 7 Octa Core AI 7 350 ',\n",
       " 'ASUS TUF Gaming A15 AMD Ryzen 7 Octa Core 7435HS ',\n",
       " 'Lenovo Yoga Slim 7 AI PC Intel Core Ultra 7 155H ',\n",
       " 'Acer Swift Neo OLED AI PC Intel Core Ultra 5 115U ']"
      ]
     },
     "execution_count": 60,
     "metadata": {},
     "output_type": "execute_result"
    }
   ],
   "source": [
    "names = [text.split(\"-\")[0] for text in titleText] \n",
    "names\n"
   ]
  },
  {
   "cell_type": "code",
   "execution_count": 69,
   "id": "82d4f7f8-1138-4f91-8de3-621a9e24700a",
   "metadata": {},
   "outputs": [
    {
     "name": "stdout",
     "output_type": "stream",
     "text": [
      "<div class=\"col col-5-12 BfVC2z\"><div class=\"cN1yYO\"><div class=\"hl05eU\"><div class=\"Nx9bqj _4b5DiR\">₹43,990</div><div class=\"yRaY8j ZYYwLA\">₹<!-- -->55,135</div><div class=\"UkUFwK\"><span>20% off</span></div></div></div><div class=\"_0CSTHy\"><img height=\"21\" src=\"//static-assets-web.flixcart.com/fk-p-linchpin-web/fk-cp-zion/img/fa_9e47c1.png\"/></div><div class=\"M4DNwV\"><div class=\"n5vj9c\"><div class=\"yiggsN O5Fpg8\" style=\"color:#26A541;font-size:14px;font-weight:700\">Bank Offer</div></div></div></div>\n",
      "\n",
      "\n",
      "<div class=\"col col-5-12 BfVC2z\"><div class=\"cN1yYO\"><div class=\"hl05eU\"><div class=\"Nx9bqj _4b5DiR\">₹74,990</div><div class=\"yRaY8j ZYYwLA\">₹<!-- -->92,990</div><div class=\"UkUFwK\"><span>19% off</span></div></div></div><div class=\"M4DNwV\"><div class=\"n5vj9c\"><div class=\"yiggsN O5Fpg8\" style=\"color:#000000;font-size:14px;font-style:normal;font-weight:400\">Upto </div><div class=\"yiggsN O5Fpg8\" style=\"color:#000000;font-size:14px;font-style:normal;font-weight:700\">₹25,000</div><div class=\"yiggsN O5Fpg8\" style=\"color:#000000;font-size:14px;font-style:normal;font-weight:400\"> Off on Exchange</div></div></div><div class=\"M4DNwV\"><div class=\"n5vj9c\"><div class=\"yiggsN O5Fpg8\" style=\"color:#26A541;font-size:14px;font-weight:700\">Bank Offer</div></div></div></div>\n",
      "\n",
      "\n",
      "<div class=\"col col-5-12 BfVC2z\"><div class=\"cN1yYO\"><div class=\"hl05eU\"><div class=\"Nx9bqj _4b5DiR\">₹45,990</div><div class=\"yRaY8j ZYYwLA\">₹<!-- -->73,990</div><div class=\"UkUFwK\"><span>37% off</span></div></div></div><div class=\"_0CSTHy\"><img height=\"21\" src=\"//static-assets-web.flixcart.com/fk-p-linchpin-web/fk-cp-zion/img/fa_9e47c1.png\"/></div><div class=\"M4DNwV\"><div class=\"n5vj9c\" style=\"padding-top:4px;padding-right:4px;padding-bottom:4px;padding-left:4px;border-radius:2px;background-color:#E7F8EC\"><div class=\"yiggsN O5Fpg8\" style=\"color:#26A541;font-size:12px;font-weight:700\">Lowest price since launch</div></div></div><div class=\"M4DNwV\"><div class=\"n5vj9c\"><div class=\"yiggsN O5Fpg8\" style=\"color:#26A541;font-size:14px;font-weight:700\">Bank Offer</div></div></div></div>\n",
      "\n",
      "\n",
      "<div class=\"col col-5-12 BfVC2z\"><div class=\"cN1yYO\"><div class=\"hl05eU\"><div class=\"Nx9bqj _4b5DiR\">₹62,290</div><div class=\"yRaY8j ZYYwLA\">₹<!-- -->1,25,890</div><div class=\"UkUFwK\"><span>50% off</span></div></div></div><div class=\"_0CSTHy\"><img height=\"21\" src=\"//static-assets-web.flixcart.com/fk-p-linchpin-web/fk-cp-zion/img/fa_9e47c1.png\"/></div><div class=\"M4DNwV\"><div class=\"n5vj9c\"><div class=\"yiggsN O5Fpg8\" style=\"color:#C70055;font-size:12px;font-weight:700\">Only few left</div></div></div><div class=\"M4DNwV\"><div class=\"n5vj9c\"><div class=\"yiggsN O5Fpg8\" style=\"color:#000000;font-size:14px;font-style:normal;font-weight:400\">Upto </div><div class=\"yiggsN O5Fpg8\" style=\"color:#000000;font-size:14px;font-style:normal;font-weight:700\">₹25,000</div><div class=\"yiggsN O5Fpg8\" style=\"color:#000000;font-size:14px;font-style:normal;font-weight:400\"> Off on Exchange</div></div></div></div>\n",
      "\n",
      "\n",
      "<div class=\"col col-5-12 BfVC2z\"><div class=\"cN1yYO\"><div class=\"hl05eU\"><div class=\"Nx9bqj _4b5DiR\">₹14,990</div><div class=\"yRaY8j ZYYwLA\">₹<!-- -->32,990</div><div class=\"UkUFwK\"><span>54% off</span></div></div></div><div class=\"M4DNwV\"><div class=\"n5vj9c\"><div class=\"yiggsN O5Fpg8\" style=\"color:#26A541;font-size:14px;font-weight:700\">Bank Offer</div></div></div></div>\n",
      "\n",
      "\n",
      "<div class=\"col col-5-12 BfVC2z\"><div class=\"cN1yYO\"><div class=\"hl05eU\"><div class=\"Nx9bqj _4b5DiR\">₹40,990</div><div class=\"yRaY8j ZYYwLA\">₹<!-- -->56,831</div><div class=\"UkUFwK\"><span>27% off</span></div></div></div><div class=\"M4DNwV\"><div class=\"n5vj9c\"><div class=\"yiggsN O5Fpg8\" style=\"color:#000000;font-size:14px;font-style:normal;font-weight:400\">Upto </div><div class=\"yiggsN O5Fpg8\" style=\"color:#000000;font-size:14px;font-style:normal;font-weight:700\">₹25,000</div><div class=\"yiggsN O5Fpg8\" style=\"color:#000000;font-size:14px;font-style:normal;font-weight:400\"> Off on Exchange</div></div></div><div class=\"M4DNwV\"><div class=\"n5vj9c\"><div class=\"yiggsN O5Fpg8\" style=\"color:#26A541;font-size:14px;font-weight:700\">Bank Offer</div></div></div></div>\n",
      "\n",
      "\n",
      "<div class=\"col col-5-12 BfVC2z\"><div class=\"cN1yYO\"><div class=\"hl05eU\"><div class=\"Nx9bqj _4b5DiR\">₹19,990</div><div class=\"yRaY8j ZYYwLA\">₹<!-- -->44,990</div><div class=\"UkUFwK\"><span>55% off</span></div></div></div><div class=\"M4DNwV\"><div class=\"n5vj9c\"><div class=\"yiggsN O5Fpg8\" style=\"color:#000000;font-size:14px;font-style:normal;font-weight:400\">Upto </div><div class=\"yiggsN O5Fpg8\" style=\"color:#000000;font-size:14px;font-style:normal;font-weight:700\">₹12,000</div><div class=\"yiggsN O5Fpg8\" style=\"color:#000000;font-size:14px;font-style:normal;font-weight:400\"> Off on Exchange</div></div></div><div class=\"M4DNwV\"><div class=\"n5vj9c\"><div class=\"yiggsN O5Fpg8\" style=\"color:#26A541;font-size:14px;font-weight:700\">Bank Offer</div></div></div></div>\n",
      "\n",
      "\n",
      "<div class=\"col col-5-12 BfVC2z\"><div class=\"cN1yYO\"><div class=\"hl05eU\"><div class=\"Nx9bqj _4b5DiR\">₹21,490</div><div class=\"yRaY8j ZYYwLA\">₹<!-- -->44,990</div><div class=\"UkUFwK\"><span>52% off</span></div></div></div><div class=\"M4DNwV\"><div class=\"n5vj9c\"><div class=\"yiggsN O5Fpg8\" style=\"color:#C70055;font-size:12px;font-weight:700\">Only few left</div></div></div><div class=\"M4DNwV\"><div class=\"n5vj9c\"><div class=\"yiggsN O5Fpg8\" style=\"color:#26A541;font-size:14px;font-weight:700\">Bank Offer</div></div></div></div>\n",
      "\n",
      "\n",
      "<div class=\"col col-5-12 BfVC2z\"><div class=\"cN1yYO\"><div class=\"hl05eU\"><div class=\"Nx9bqj _4b5DiR\">₹9,299</div><div class=\"yRaY8j ZYYwLA\">₹<!-- -->16,298</div><div class=\"UkUFwK\"><span>42% off</span></div></div></div><div class=\"M4DNwV\"><div class=\"n5vj9c\"><div class=\"yiggsN O5Fpg8\" style=\"color:#C70055;font-size:12px;font-weight:700\">Only 2 left</div></div></div><div class=\"M4DNwV\"><div class=\"n5vj9c\"><div class=\"yiggsN O5Fpg8\" style=\"color:#000000;font-size:14px;font-style:normal;font-weight:400\">Upto </div><div class=\"yiggsN O5Fpg8\" style=\"color:#000000;font-size:14px;font-style:normal;font-weight:700\">₹8,700</div><div class=\"yiggsN O5Fpg8\" style=\"color:#000000;font-size:14px;font-style:normal;font-weight:400\"> Off on Exchange</div></div></div></div>\n",
      "\n",
      "\n",
      "<div class=\"col col-5-12 BfVC2z\"><div class=\"cN1yYO\"><div class=\"hl05eU\"><div class=\"Nx9bqj _4b5DiR\">₹32,990</div><div class=\"yRaY8j ZYYwLA\">₹<!-- -->50,990</div><div class=\"UkUFwK\"><span>35% off</span></div></div></div><div class=\"_0CSTHy\"><img height=\"21\" src=\"//static-assets-web.flixcart.com/fk-p-linchpin-web/fk-cp-zion/img/fa_9e47c1.png\"/></div><div class=\"M4DNwV\"><div class=\"n5vj9c\" style=\"padding-top:4px;padding-right:4px;padding-bottom:4px;padding-left:4px;border-radius:2px;background-color:#E7F8EC\"><div class=\"yiggsN O5Fpg8\" style=\"color:#26A541;font-size:12px;font-weight:700\">Lowest price since launch</div></div></div><div class=\"M4DNwV\"><div class=\"n5vj9c\"><div class=\"yiggsN O5Fpg8\" style=\"color:#26A541;font-size:14px;font-weight:700\">Bank Offer</div></div></div></div>\n",
      "\n",
      "\n",
      "<div class=\"col col-5-12 BfVC2z\"><div class=\"cN1yYO\"><div class=\"hl05eU\"><div class=\"Nx9bqj _4b5DiR\">₹13,990</div><div class=\"yRaY8j ZYYwLA\">₹<!-- -->32,990</div><div class=\"UkUFwK\"><span>57% off</span></div></div></div><div class=\"_0CSTHy\"><img height=\"21\" src=\"//static-assets-web.flixcart.com/fk-p-linchpin-web/fk-cp-zion/img/fa_9e47c1.png\"/></div><div class=\"M4DNwV\"><div class=\"n5vj9c\" style=\"padding-top:4px;padding-right:4px;padding-bottom:4px;padding-left:4px;border-radius:2px;background-color:#E7F8EC\"><div class=\"yiggsN O5Fpg8\" style=\"color:#26A541;font-size:12px;font-weight:700\">Lowest price since launch</div></div></div><div class=\"M4DNwV\"><div class=\"n5vj9c\"><div class=\"yiggsN O5Fpg8\" style=\"color:#000000;font-size:14px;font-style:normal;font-weight:400\">Upto </div><div class=\"yiggsN O5Fpg8\" style=\"color:#000000;font-size:14px;font-style:normal;font-weight:700\">₹9,000</div><div class=\"yiggsN O5Fpg8\" style=\"color:#000000;font-size:14px;font-style:normal;font-weight:400\"> Off on Exchange</div></div></div></div>\n",
      "\n",
      "\n",
      "<div class=\"col col-5-12 BfVC2z\"><div class=\"cN1yYO\"><div class=\"hl05eU\"><div class=\"Nx9bqj _4b5DiR\">₹22,990</div><div class=\"yRaY8j ZYYwLA\">₹<!-- -->52,999</div><div class=\"UkUFwK\"><span>56% off</span></div></div></div><div class=\"M4DNwV\"><div class=\"n5vj9c\"><div class=\"yiggsN O5Fpg8\" style=\"color:#26A541;font-size:14px;font-weight:700\">Bank Offer</div></div></div></div>\n",
      "\n",
      "\n",
      "<div class=\"col col-5-12 BfVC2z\"><div class=\"cN1yYO\"><div class=\"hl05eU\"><div class=\"Nx9bqj _4b5DiR\">₹17,990</div><div class=\"yRaY8j ZYYwLA\">₹<!-- -->33,399</div><div class=\"UkUFwK\"><span>46% off</span></div></div></div><div class=\"M4DNwV\"><div class=\"n5vj9c\"><div class=\"yiggsN O5Fpg8\" style=\"color:#000000;font-size:14px;font-style:normal;font-weight:400\">Upto </div><div class=\"yiggsN O5Fpg8\" style=\"color:#000000;font-size:14px;font-style:normal;font-weight:700\">₹12,000</div><div class=\"yiggsN O5Fpg8\" style=\"color:#000000;font-size:14px;font-style:normal;font-weight:400\"> Off on Exchange</div></div></div><div class=\"M4DNwV\"><div class=\"n5vj9c\"><div class=\"yiggsN O5Fpg8\" style=\"color:#26A541;font-size:14px;font-weight:700\">Bank Offer</div></div></div></div>\n",
      "\n",
      "\n",
      "<div class=\"col col-5-12 BfVC2z\"><div class=\"cN1yYO\"><div class=\"hl05eU\"><div class=\"Nx9bqj _4b5DiR\">₹19,990</div><div class=\"yRaY8j ZYYwLA\">₹<!-- -->35,999</div><div class=\"UkUFwK\"><span>44% off</span></div></div></div><div class=\"M4DNwV\"><div class=\"n5vj9c\"><div class=\"yiggsN O5Fpg8\" style=\"color:#000000;font-size:14px;font-style:normal;font-weight:400\">Upto </div><div class=\"yiggsN O5Fpg8\" style=\"color:#000000;font-size:14px;font-style:normal;font-weight:700\">₹12,000</div><div class=\"yiggsN O5Fpg8\" style=\"color:#000000;font-size:14px;font-style:normal;font-weight:400\"> Off on Exchange</div></div></div><div class=\"M4DNwV\"><div class=\"n5vj9c\"><div class=\"yiggsN O5Fpg8\" style=\"color:#26A541;font-size:14px;font-weight:700\">Bank Offer</div></div></div></div>\n",
      "\n",
      "\n",
      "<div class=\"col col-5-12 BfVC2z\"><div class=\"cN1yYO\"><div class=\"hl05eU\"><div class=\"Nx9bqj _4b5DiR\">₹51,990</div><div class=\"yRaY8j ZYYwLA\">₹<!-- -->89,990</div><div class=\"UkUFwK\"><span>42% off</span></div></div></div><div class=\"_0CSTHy\"><img height=\"21\" src=\"//static-assets-web.flixcart.com/fk-p-linchpin-web/fk-cp-zion/img/fa_9e47c1.png\"/></div><div class=\"M4DNwV\"><div class=\"n5vj9c\" style=\"padding-top:4px;padding-right:4px;padding-bottom:4px;padding-left:4px;border-radius:2px;background-color:#E7F8EC\"><div class=\"yiggsN O5Fpg8\" style=\"color:#26A541;font-size:12px;font-weight:700\">Hot Deal</div></div></div><div class=\"M4DNwV\"><div class=\"n5vj9c\"><div class=\"yiggsN O5Fpg8\" style=\"color:#000000;font-size:14px;font-style:normal;font-weight:400\">Upto </div><div class=\"yiggsN O5Fpg8\" style=\"color:#000000;font-size:14px;font-style:normal;font-weight:700\">₹25,000</div><div class=\"yiggsN O5Fpg8\" style=\"color:#000000;font-size:14px;font-style:normal;font-weight:400\"> Off on Exchange</div></div></div></div>\n",
      "\n",
      "\n",
      "<div class=\"col col-5-12 BfVC2z\"><div class=\"cN1yYO\"><div class=\"hl05eU\"><div class=\"Nx9bqj _4b5DiR\">₹39,990</div><div class=\"yRaY8j ZYYwLA\">₹<!-- -->66,090</div><div class=\"UkUFwK\"><span>39% off</span></div></div></div><div class=\"_0CSTHy\"><img height=\"21\" src=\"//static-assets-web.flixcart.com/fk-p-linchpin-web/fk-cp-zion/img/fa_9e47c1.png\"/></div><div class=\"M4DNwV\"><div class=\"n5vj9c\" style=\"padding-top:4px;padding-right:4px;padding-bottom:4px;padding-left:4px;border-radius:2px;background-color:#E7F8EC\"><div class=\"yiggsN O5Fpg8\" style=\"color:#26A541;font-size:12px;font-weight:700\">Lowest price in the year</div></div></div><div class=\"M4DNwV\"><div class=\"n5vj9c\"><div class=\"yiggsN O5Fpg8\" style=\"color:#000000;font-size:14px;font-style:normal;font-weight:400\">Upto </div><div class=\"yiggsN O5Fpg8\" style=\"color:#000000;font-size:14px;font-style:normal;font-weight:700\">₹25,000</div><div class=\"yiggsN O5Fpg8\" style=\"color:#000000;font-size:14px;font-style:normal;font-weight:400\"> Off on Exchange</div></div></div></div>\n",
      "\n",
      "\n",
      "<div class=\"col col-5-12 BfVC2z\"><div class=\"cN1yYO\"><div class=\"hl05eU\"><div class=\"Nx9bqj _4b5DiR\">₹60,990</div><div class=\"yRaY8j ZYYwLA\">₹<!-- -->93,690</div><div class=\"UkUFwK\"><span>34% off</span></div></div></div><div class=\"_0CSTHy\"><img height=\"21\" src=\"//static-assets-web.flixcart.com/fk-p-linchpin-web/fk-cp-zion/img/fa_9e47c1.png\"/></div><div class=\"M4DNwV\"><div class=\"n5vj9c\"><div class=\"yiggsN O5Fpg8\" style=\"color:#26A541;font-size:14px;font-weight:700\">Bank Offer</div></div></div></div>\n",
      "\n",
      "\n",
      "<div class=\"col col-5-12 BfVC2z\"><div class=\"cN1yYO\"><div class=\"hl05eU\"><div class=\"Nx9bqj _4b5DiR\">₹80,990</div><div class=\"yRaY8j ZYYwLA\">₹<!-- -->96,137</div><div class=\"UkUFwK\"><span>15% off</span></div></div></div><div class=\"M4DNwV\"><div class=\"n5vj9c\"><div class=\"yiggsN O5Fpg8\" style=\"color:#26A541;font-size:14px;font-weight:700\">Bank Offer</div></div></div></div>\n",
      "\n",
      "\n",
      "<div class=\"col col-5-12 BfVC2z\"><div class=\"cN1yYO\"><div class=\"hl05eU\"><div class=\"Nx9bqj _4b5DiR\">₹30,990</div><div class=\"yRaY8j ZYYwLA\">₹<!-- -->54,990</div><div class=\"UkUFwK\"><span>43% off</span></div></div></div><div class=\"_0CSTHy\"><img height=\"21\" src=\"//static-assets-web.flixcart.com/fk-p-linchpin-web/fk-cp-zion/img/fa_9e47c1.png\"/></div><div class=\"M4DNwV\"><div class=\"n5vj9c\" style=\"padding-top:4px;padding-right:4px;padding-bottom:4px;padding-left:4px;border-radius:2px;background-color:#E7F8EC\"><div class=\"yiggsN O5Fpg8\" style=\"color:#26A541;font-size:12px;font-weight:700\">Hot Deal</div></div></div><div class=\"M4DNwV\"><div class=\"n5vj9c\"><div class=\"yiggsN O5Fpg8\" style=\"color:#000000;font-size:14px;font-style:normal;font-weight:400\">Upto </div><div class=\"yiggsN O5Fpg8\" style=\"color:#000000;font-size:14px;font-style:normal;font-weight:700\">₹25,000</div><div class=\"yiggsN O5Fpg8\" style=\"color:#000000;font-size:14px;font-style:normal;font-weight:400\"> Off on Exchange</div></div></div></div>\n",
      "\n",
      "\n",
      "<div class=\"col col-5-12 BfVC2z\"><div class=\"cN1yYO\"><div class=\"hl05eU\"><div class=\"Nx9bqj _4b5DiR\">₹52,990</div><div class=\"yRaY8j ZYYwLA\">₹<!-- -->82,789</div><div class=\"UkUFwK\"><span>35% off</span></div></div></div><div class=\"_0CSTHy\"><img height=\"21\" src=\"//static-assets-web.flixcart.com/fk-p-linchpin-web/fk-cp-zion/img/fa_9e47c1.png\"/></div><div class=\"M4DNwV\"><div class=\"n5vj9c\" style=\"padding-top:4px;padding-right:4px;padding-bottom:4px;padding-left:4px;border-radius:2px;background-color:#E7F8EC\"><div class=\"yiggsN O5Fpg8\" style=\"color:#26A541;font-size:12px;font-weight:700\">Hot Deal</div></div></div><div class=\"M4DNwV\"><div class=\"n5vj9c\"><div class=\"yiggsN O5Fpg8\" style=\"color:#000000;font-size:14px;font-style:normal;font-weight:400\">Upto </div><div class=\"yiggsN O5Fpg8\" style=\"color:#000000;font-size:14px;font-style:normal;font-weight:700\">₹25,000</div><div class=\"yiggsN O5Fpg8\" style=\"color:#000000;font-size:14px;font-style:normal;font-weight:400\"> Off on Exchange</div></div></div></div>\n",
      "\n",
      "\n",
      "<div class=\"col col-5-12 BfVC2z\"><div class=\"cN1yYO\"><div class=\"hl05eU\"><div class=\"Nx9bqj _4b5DiR\">₹89,990</div><div class=\"yRaY8j ZYYwLA\">₹<!-- -->1,06,308</div><div class=\"UkUFwK\"><span>15% off</span></div></div></div><div class=\"M4DNwV\"><div class=\"n5vj9c\"><div class=\"yiggsN O5Fpg8\" style=\"color:#26A541;font-size:14px;font-weight:700\">Bank Offer</div></div></div></div>\n",
      "\n",
      "\n",
      "<div class=\"col col-5-12 BfVC2z\"><div class=\"cN1yYO\"><div class=\"hl05eU\"><div class=\"Nx9bqj _4b5DiR\">₹54,990</div><div class=\"yRaY8j ZYYwLA\">₹<!-- -->70,990</div><div class=\"UkUFwK\"><span>22% off</span></div></div></div><div class=\"_0CSTHy\"><img height=\"21\" src=\"//static-assets-web.flixcart.com/fk-p-linchpin-web/fk-cp-zion/img/fa_9e47c1.png\"/></div><div class=\"M4DNwV\"><div class=\"n5vj9c\"><div class=\"yiggsN O5Fpg8\" style=\"color:#000000;font-size:14px;font-style:normal;font-weight:400\">Upto </div><div class=\"yiggsN O5Fpg8\" style=\"color:#000000;font-size:14px;font-style:normal;font-weight:700\">₹25,000</div><div class=\"yiggsN O5Fpg8\" style=\"color:#000000;font-size:14px;font-style:normal;font-weight:400\"> Off on Exchange</div></div></div><div class=\"M4DNwV\"><div class=\"n5vj9c\"><div class=\"yiggsN O5Fpg8\" style=\"color:#26A541;font-size:14px;font-weight:700\">Bank Offer</div></div></div></div>\n",
      "\n",
      "\n",
      "<div class=\"col col-5-12 BfVC2z\"><div class=\"cN1yYO\"><div class=\"hl05eU\"><div class=\"Nx9bqj _4b5DiR\">₹75,990</div><div class=\"yRaY8j ZYYwLA\">₹<!-- -->1,53,190</div><div class=\"UkUFwK\"><span>50% off</span></div></div></div><div class=\"_0CSTHy\"><img height=\"21\" src=\"//static-assets-web.flixcart.com/fk-p-linchpin-web/fk-cp-zion/img/fa_9e47c1.png\"/></div><div class=\"M4DNwV\"><div class=\"n5vj9c\" style=\"padding-top:4px;padding-right:4px;padding-bottom:4px;padding-left:4px;border-radius:2px;background-color:#E7F8EC\"><div class=\"yiggsN O5Fpg8\" style=\"color:#26A541;font-size:12px;font-weight:700\">Lowest price since launch</div></div></div><div class=\"M4DNwV\"><div class=\"n5vj9c\"><div class=\"yiggsN O5Fpg8\" style=\"color:#C70055;font-size:12px;font-weight:700\">Only few left</div></div></div></div>\n",
      "\n",
      "\n",
      "<div class=\"col col-5-12 BfVC2z\"><div class=\"cN1yYO\"><div class=\"hl05eU\"><div class=\"Nx9bqj _4b5DiR\">₹57,990</div><div class=\"yRaY8j ZYYwLA\">₹<!-- -->99,999</div><div class=\"UkUFwK\"><span>42% off</span></div></div></div><div class=\"_0CSTHy\"><img height=\"21\" src=\"//static-assets-web.flixcart.com/fk-p-linchpin-web/fk-cp-zion/img/fa_9e47c1.png\"/></div><div class=\"M4DNwV\"><div class=\"n5vj9c\"><div class=\"yiggsN O5Fpg8\" style=\"color:#000000;font-size:14px;font-style:normal;font-weight:400\">Upto </div><div class=\"yiggsN O5Fpg8\" style=\"color:#000000;font-size:14px;font-style:normal;font-weight:700\">₹25,000</div><div class=\"yiggsN O5Fpg8\" style=\"color:#000000;font-size:14px;font-style:normal;font-weight:400\"> Off on Exchange</div></div></div><div class=\"M4DNwV\"><div class=\"n5vj9c\"><div class=\"yiggsN O5Fpg8\" style=\"color:#26A541;font-size:14px;font-weight:700\">Bank Offer</div></div></div></div>\n",
      "\n",
      "\n"
     ]
    }
   ],
   "source": [
    "prices = soup.find_all(\"div\", class_=\"Nx9bqj _4b5DiR\")\n",
    "for price in prices:\n",
    "    print(price)\n",
    "    print(\"\\n\")"
   ]
  },
  {
   "cell_type": "code",
   "execution_count": null,
   "id": "1b30c9cd-441e-4a1a-9e55-c7528bc0de33",
   "metadata": {},
   "outputs": [],
   "source": []
  }
 ],
 "metadata": {
  "kernelspec": {
   "display_name": "Python 3 (ipykernel)",
   "language": "python",
   "name": "python3"
  },
  "language_info": {
   "codemirror_mode": {
    "name": "ipython",
    "version": 3
   },
   "file_extension": ".py",
   "mimetype": "text/x-python",
   "name": "python",
   "nbconvert_exporter": "python",
   "pygments_lexer": "ipython3",
   "version": "3.12.7"
  }
 },
 "nbformat": 4,
 "nbformat_minor": 5
}
