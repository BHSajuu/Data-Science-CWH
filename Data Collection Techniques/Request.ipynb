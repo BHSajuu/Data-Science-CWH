{
 "cells": [
  {
   "cell_type": "code",
   "execution_count": 9,
   "id": "b866506d-20d6-4810-8b2e-b766b2962da7",
   "metadata": {},
   "outputs": [],
   "source": [
    "import requests"
   ]
  },
  {
   "cell_type": "code",
   "execution_count": 2,
   "id": "da87d54a-36df-4564-b678-37a18f6ed922",
   "metadata": {},
   "outputs": [],
   "source": [
    "a  = requests.get(\"https://books.toscrape.com/\")"
   ]
  },
  {
   "cell_type": "code",
   "execution_count": 3,
   "id": "a00110ed-ee6f-4a14-9ee5-51b7ef2a9cfc",
   "metadata": {},
   "outputs": [],
   "source": [
    "with open (f\"html/page1.html\",\"w\") as f :\n",
    "    f.write(a.text)"
   ]
  },
  {
   "cell_type": "code",
   "execution_count": 10,
   "id": "3a0ba366-f483-4f98-b4e2-b2c1a555c9fe",
   "metadata": {},
   "outputs": [
    {
     "name": "stdout",
     "output_type": "stream",
     "text": [
      "Page1 download completed\n",
      "Page2 download completed\n",
      "Page3 download completed\n",
      "Page4 download completed\n",
      "Page5 download completed\n",
      "Page6 download completed\n",
      "Page7 download completed\n",
      "Page8 download completed\n",
      "Page9 download completed\n",
      "Page10 download completed\n",
      "Page11 download completed\n",
      "Page12 download completed\n",
      "Page13 download completed\n",
      "Page14 download completed\n",
      "Page15 download completed\n",
      "Page16 download completed\n",
      "Page17 download completed\n",
      "Page18 download completed\n",
      "Page19 download completed\n",
      "Page20 download completed\n",
      "Page21 download completed\n",
      "Page22 download completed\n",
      "Page23 download completed\n",
      "Page24 download completed\n",
      "Page25 download completed\n",
      "Page26 download completed\n",
      "Page27 download completed\n",
      "Page28 download completed\n",
      "Page29 download completed\n",
      "Page30 download completed\n",
      "Page31 download completed\n",
      "Page32 download completed\n",
      "Page33 download completed\n",
      "Page34 download completed\n",
      "Page35 download completed\n",
      "Page36 download completed\n",
      "Page37 download completed\n",
      "Page38 download completed\n",
      "Page39 download completed\n",
      "Page40 download completed\n",
      "Page41 download completed\n",
      "Page42 download completed\n",
      "Page43 download completed\n",
      "Page44 download completed\n",
      "Page45 download completed\n",
      "Page46 download completed\n",
      "Page47 download completed\n",
      "Page48 download completed\n",
      "Page49 download completed\n",
      "Page50 download completed\n"
     ]
    }
   ],
   "source": [
    "for i in range(1,51):\n",
    "    a = requests.get(f\"https://books.toscrape.com/catalogue/page-{i}.html\")\n",
    "    with open(f\"html/page{i}.html\", \"w\" , encoding=\"utf-8\") as f:\n",
    "        f.write(a.text)\n",
    "    print(f\"Page{i} download completed\")"
   ]
  },
  {
   "cell_type": "code",
   "execution_count": null,
   "id": "a3d0f8eb-bdd4-4b04-ba11-5e726a1f2437",
   "metadata": {},
   "outputs": [],
   "source": []
  }
 ],
 "metadata": {
  "kernelspec": {
   "display_name": "Python 3 (ipykernel)",
   "language": "python",
   "name": "python3"
  },
  "language_info": {
   "codemirror_mode": {
    "name": "ipython",
    "version": 3
   },
   "file_extension": ".py",
   "mimetype": "text/x-python",
   "name": "python",
   "nbconvert_exporter": "python",
   "pygments_lexer": "ipython3",
   "version": "3.12.7"
  }
 },
 "nbformat": 4,
 "nbformat_minor": 5
}
