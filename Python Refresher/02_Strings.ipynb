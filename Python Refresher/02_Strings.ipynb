{
 "cells": [
  {
   "cell_type": "code",
   "execution_count": 1,
   "id": "d977fc03-ca45-4cf4-a4c8-8c1ed73bc924",
   "metadata": {},
   "outputs": [],
   "source": [
    "name = \"saju\""
   ]
  },
  {
   "cell_type": "code",
   "execution_count": 4,
   "id": "8cb458a6-e000-441c-8673-5510ea85ea7f",
   "metadata": {},
   "outputs": [
    {
     "data": {
      "text/plain": [
       "True"
      ]
     },
     "execution_count": 4,
     "metadata": {},
     "output_type": "execute_result"
    }
   ],
   "source": [
    "name.endswith(\"ju\")"
   ]
  },
  {
   "cell_type": "code",
   "execution_count": null,
   "id": "b7e1ad46-de52-4f18-962d-225e73ad62fd",
   "metadata": {},
   "outputs": [],
   "source": []
  }
 ],
 "metadata": {
  "kernelspec": {
   "display_name": "Python 3 (ipykernel)",
   "language": "python",
   "name": "python3"
  },
  "language_info": {
   "codemirror_mode": {
    "name": "ipython",
    "version": 3
   },
   "file_extension": ".py",
   "mimetype": "text/x-python",
   "name": "python",
   "nbconvert_exporter": "python",
   "pygments_lexer": "ipython3",
   "version": "3.12.7"
  }
 },
 "nbformat": 4,
 "nbformat_minor": 5
}
