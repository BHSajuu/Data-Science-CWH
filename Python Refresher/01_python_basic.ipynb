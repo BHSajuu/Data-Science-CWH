{
 "cells": [
  {
   "cell_type": "code",
   "execution_count": 1,
   "id": "8db68225-34f2-4eea-9daf-a5608ce88888",
   "metadata": {
    "jupyter": {
     "source_hidden": true
    }
   },
   "outputs": [],
   "source": [
    "a=5"
   ]
  },
  {
   "cell_type": "code",
   "execution_count": 2,
   "id": "2db76c1d-5d2b-4cee-90cb-927660cbc9b5",
   "metadata": {},
   "outputs": [],
   "source": [
    "b=10"
   ]
  },
  {
   "cell_type": "code",
   "execution_count": 3,
   "id": "76f7691f-48eb-4cb1-9422-457217441589",
   "metadata": {},
   "outputs": [
    {
     "data": {
      "text/plain": [
       "15"
      ]
     },
     "execution_count": 3,
     "metadata": {},
     "output_type": "execute_result"
    }
   ],
   "source": [
    "a+b"
   ]
  }
 ],
 "metadata": {
  "kernelspec": {
   "display_name": "Python 3 (ipykernel)",
   "language": "python",
   "name": "python3"
  },
  "language_info": {
   "codemirror_mode": {
    "name": "ipython",
    "version": 3
   },
   "file_extension": ".py",
   "mimetype": "text/x-python",
   "name": "python",
   "nbconvert_exporter": "python",
   "pygments_lexer": "ipython3",
   "version": "3.12.7"
  }
 },
 "nbformat": 4,
 "nbformat_minor": 5
}
