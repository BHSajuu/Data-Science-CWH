import json


# funtion which load data 

def load_data(filename):
    with open(filename, "r") as f:
        data = json.load(f)
    return data


data = load_data("data.json")



data


# funtion which display the user and their connections

def display_users(data):
    print("user information:\n")
    for user in data['users']:
        print(f"ID:{user['id']} - {user['name']} is friend with {user['friends']} and liked pages are {user['liked_pages']}")
    print("\n Page Information")
    for page in data['pages']:
        print(f"Page ID  {page['id']} -- page name {page['name']}")


display_users(data)



