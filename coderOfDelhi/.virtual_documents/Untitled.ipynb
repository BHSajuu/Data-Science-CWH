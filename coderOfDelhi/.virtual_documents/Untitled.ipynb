import json 


def clean_data(data):



