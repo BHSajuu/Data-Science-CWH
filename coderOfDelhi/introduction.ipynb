{
 "cells": [
  {
   "cell_type": "code",
   "execution_count": 2,
   "id": "401d101b-6470-46b7-988a-6bcd63c622b9",
   "metadata": {},
   "outputs": [],
   "source": [
    "import json"
   ]
  },
  {
   "cell_type": "code",
   "execution_count": 3,
   "id": "040cefa8-5526-4be2-8b81-8123f853d8f2",
   "metadata": {},
   "outputs": [],
   "source": [
    "# funtion which load data \n",
    "\n",
    "def load_data(filename):\n",
    "    with open(filename, \"r\") as f:\n",
    "        data = json.load(f)\n",
    "    return data"
   ]
  },
  {
   "cell_type": "code",
   "execution_count": 4,
   "id": "43edfc27-e566-46b4-a86c-ca1c40d3f175",
   "metadata": {},
   "outputs": [],
   "source": [
    "data = load_data(\"data.json\")\n"
   ]
  },
  {
   "cell_type": "code",
   "execution_count": 5,
   "id": "b8cea1b6-ac00-4776-b60f-57a371b13b0b",
   "metadata": {},
   "outputs": [
    {
     "data": {
      "text/plain": [
       "{'users': [{'id': 1, 'name': 'Amit', 'friends': [2, 3], 'liked_pages': [101]},\n",
       "  {'id': 2, 'name': 'Priya', 'friends': [1, 4], 'liked_pages': [102]},\n",
       "  {'id': 3, 'name': 'Rahul', 'friends': [1], 'liked_pages': [101, 103]},\n",
       "  {'id': 4, 'name': 'Sara', 'friends': [2], 'liked_pages': [104]}],\n",
       " 'pages': [{'id': 101, 'name': 'Python Developers'},\n",
       "  {'id': 102, 'name': 'Data Science Enthusiasts'},\n",
       "  {'id': 103, 'name': 'AI & ML Community'},\n",
       "  {'id': 104, 'name': 'Web Dev Hub'}]}"
      ]
     },
     "execution_count": 5,
     "metadata": {},
     "output_type": "execute_result"
    }
   ],
   "source": [
    "data"
   ]
  },
  {
   "cell_type": "code",
   "execution_count": 7,
   "id": "3cc18dad-a153-4156-8ce5-f25db71b1e11",
   "metadata": {},
   "outputs": [],
   "source": [
    "# funtion which display the user and their connections\n",
    "\n",
    "def display_users(data):\n",
    "    print(\"user information:\\n\")\n",
    "    for user in data['users']:\n",
    "        print(f\"ID:{user['id']} - {user['name']} is friend with {user['friends']} and liked pages are {user['liked_pages']}\")\n",
    "    print(\"\\n Page Information\")\n",
    "    for page in data['pages']:\n",
    "        print(f\"Page ID  {page['id']} -- page name {page['name']}\")"
   ]
  },
  {
   "cell_type": "code",
   "execution_count": 8,
   "id": "1ce266fb-2e41-4511-a4db-427b3a4f4897",
   "metadata": {},
   "outputs": [
    {
     "name": "stdout",
     "output_type": "stream",
     "text": [
      "user information:\n",
      "\n",
      "ID:1 - Amit is friend with [2, 3] and liked pages are [101]\n",
      "ID:2 - Priya is friend with [1, 4] and liked pages are [102]\n",
      "ID:3 - Rahul is friend with [1] and liked pages are [101, 103]\n",
      "ID:4 - Sara is friend with [2] and liked pages are [104]\n",
      "\n",
      " Page Information\n",
      "Page ID  101 -- page name Python Developers\n",
      "Page ID  102 -- page name Data Science Enthusiasts\n",
      "Page ID  103 -- page name AI & ML Community\n",
      "Page ID  104 -- page name Web Dev Hub\n"
     ]
    }
   ],
   "source": [
    "display_users(data)"
   ]
  },
  {
   "cell_type": "code",
   "execution_count": null,
   "id": "8c52adca-6883-4148-83e1-3005dd8ef884",
   "metadata": {},
   "outputs": [],
   "source": []
  }
 ],
 "metadata": {
  "kernelspec": {
   "display_name": "Python 3 (ipykernel)",
   "language": "python",
   "name": "python3"
  },
  "language_info": {
   "codemirror_mode": {
    "name": "ipython",
    "version": 3
   },
   "file_extension": ".py",
   "mimetype": "text/x-python",
   "name": "python",
   "nbconvert_exporter": "python",
   "pygments_lexer": "ipython3",
   "version": "3.12.7"
  }
 },
 "nbformat": 4,
 "nbformat_minor": 5
}
