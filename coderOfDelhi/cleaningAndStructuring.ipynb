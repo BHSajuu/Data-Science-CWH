{
 "cells": [
  {
   "cell_type": "code",
   "execution_count": 1,
   "id": "c7b73c3e-dc08-4787-93ac-e4e208f4d001",
   "metadata": {},
   "outputs": [],
   "source": [
    "import json "
   ]
  },
  {
   "cell_type": "code",
   "execution_count": 7,
   "id": "56b7be00-b2bb-4d5a-bdec-60f1518e2f02",
   "metadata": {},
   "outputs": [
    {
     "name": "stdout",
     "output_type": "stream",
     "text": [
      "Data has been cleaned successfully.\n"
     ]
    }
   ],
   "source": [
    "def clean_data(data):\n",
    "    #Remove users with missing name\n",
    "    data[\"users\"] = [user for user in data[\"users\"] if user[\"name\"].strip()]\n",
    "\n",
    "    # remove duplicate  friends\n",
    "    for user in data[\"users\"]:\n",
    "        user[\"friends\"] = list(set(user[\"friends\"]))\n",
    "\n",
    "    #remove inactive users\n",
    "    data[\"users\"] = [user for user in data[\"users\"] if(user[\"friends\"] or user[\"liked_pages\"])]\n",
    "\n",
    "    # remove  duplicate pages \n",
    "    unique_pages= {}\n",
    "    for page in data[\"pages\"]:\n",
    "        unique_pages[page[\"id\"]] = page \n",
    "    data[\"pages\"] = list(unique_pages.values())\n",
    "    return data\n",
    "\n",
    "\n",
    "# load the data \n",
    "data = json.load(open(\"data2.json\"))\n",
    "data = clean_data(data)\n",
    "json.dump(data, open(\"clead_data2.json\", \"w\"), indent=4)\n",
    "print(\"Data has been cleaned successfully.\")"
   ]
  },
  {
   "cell_type": "code",
   "execution_count": null,
   "id": "9042d2e1-5e71-4e62-ac31-d45c0e55fde7",
   "metadata": {},
   "outputs": [],
   "source": []
  }
 ],
 "metadata": {
  "kernelspec": {
   "display_name": "Python 3 (ipykernel)",
   "language": "python",
   "name": "python3"
  },
  "language_info": {
   "codemirror_mode": {
    "name": "ipython",
    "version": 3
   },
   "file_extension": ".py",
   "mimetype": "text/x-python",
   "name": "python",
   "nbconvert_exporter": "python",
   "pygments_lexer": "ipython3",
   "version": "3.12.7"
  }
 },
 "nbformat": 4,
 "nbformat_minor": 5
}
